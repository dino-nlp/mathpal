{
  "cells": [
    {
      "cell_type": "markdown",
      "metadata": {
        "vscode": {
          "languageId": "raw"
        }
      },
      "source": [
        "# Debug Qdrant \"cleaned_exams\" Collection\n",
        "\n",
        "Notebook này giúp debug và khắc phục lỗi không thể lấy collection \"cleaned_exams\" từ Qdrant.\n"
      ]
    },
    {
      "cell_type": "code",
      "execution_count": 1,
      "metadata": {},
      "outputs": [
        {
          "name": "stdout",
          "output_type": "stream",
          "text": [
            "\u001b[2m2025-08-01T08:17:58.113739Z\u001b[0m [\u001b[32m\u001b[1minfo     \u001b[0m] \u001b[1mConnection to database with uri: mongodb://mongo1:30001,mongo2:30002,mongo3:30003/?replicaSet=my-replica-set successful\u001b[0m [\u001b[0m\u001b[1m\u001b[34mcore.logger_utils\u001b[0m]\u001b[0m \u001b[36mcls\u001b[0m=\u001b[35m/home/dino/Documents/mathpal/src/core/db/mongo.py\u001b[0m\n",
            "\u001b[2m2025-08-01T08:18:01.427354Z\u001b[0m [\u001b[32m\u001b[1minfo     \u001b[0m] \u001b[1mCOMET_DEFAULT_WORKSPACE: mathpal  # such as your Comet username\u001b[0m [\u001b[0m\u001b[1m\u001b[34mcore.logger_utils\u001b[0m]\u001b[0m \u001b[36mcls\u001b[0m=\u001b[35mcore.opik_utils\u001b[0m\n",
            "HTTP Request: GET https://www.comet.com/api/rest/v2/account-details \"HTTP/1.1 200 OK\"\n",
            "HTTP Request: GET https://www.comet.com/api/rest/v2/workspaces \"HTTP/1.1 200 OK\"\n",
            "\u001b[2m2025-08-01T08:18:03.166794Z\u001b[0m [\u001b[33m\u001b[1mwarning  \u001b[0m] \u001b[1mCould not configure Opik.     \u001b[0m [\u001b[0m\u001b[1m\u001b[34mcore.logger_utils\u001b[0m]\u001b[0m \u001b[36mcls\u001b[0m=\u001b[35m/home/dino/Documents/mathpal/src/core/__init__.py\u001b[0m\n",
            "✅ Import thành công!\n"
          ]
        }
      ],
      "source": [
        "import sys\n",
        "import os\n",
        "\n",
        "# Thêm thư mục src vào sys.path\n",
        "sys.path.append(os.path.abspath('../src'))\n",
        "\n",
        "# Import các module cần thiết\n",
        "from core.db.qdrant import QdrantDatabaseConnector\n",
        "from core.config import settings\n",
        "from qdrant_client.http.exceptions import UnexpectedResponse\n",
        "import traceback\n",
        "\n",
        "print(\"✅ Import thành công!\")\n"
      ]
    },
    {
      "cell_type": "raw",
      "metadata": {
        "vscode": {
          "languageId": "raw"
        }
      },
      "source": [
        "## Bước 1: Kiểm tra cấu hình Qdrant\n"
      ]
    },
    {
      "cell_type": "code",
      "execution_count": 2,
      "metadata": {},
      "outputs": [
        {
          "name": "stdout",
          "output_type": "stream",
          "text": [
            "=== Cấu hình Qdrant ===\n",
            "USE_QDRANT_CLOUD: False\n",
            "QDRANT_DATABASE_HOST: qdrant\n",
            "QDRANT_DATABASE_PORT: 6333\n",
            "QDRANT_CLOUD_URL: \n",
            "QDRANT_APIKEY: None\n"
          ]
        }
      ],
      "source": [
        "print(\"=== Cấu hình Qdrant ===\")\n",
        "print(f\"USE_QDRANT_CLOUD: {settings.USE_QDRANT_CLOUD}\")\n",
        "print(f\"QDRANT_DATABASE_HOST: {settings.QDRANT_DATABASE_HOST}\")\n",
        "print(f\"QDRANT_DATABASE_PORT: {settings.QDRANT_DATABASE_PORT}\")\n",
        "print(f\"QDRANT_CLOUD_URL: {settings.QDRANT_CLOUD_URL}\")\n",
        "print(f\"QDRANT_APIKEY: {'***' if settings.QDRANT_APIKEY else 'None'}\")\n"
      ]
    },
    {
      "cell_type": "raw",
      "metadata": {
        "vscode": {
          "languageId": "raw"
        }
      },
      "source": [
        "## Bước 2: Thử kết nối Qdrant\n"
      ]
    },
    {
      "cell_type": "code",
      "execution_count": 3,
      "metadata": {},
      "outputs": [
        {
          "name": "stdout",
          "output_type": "stream",
          "text": [
            "Đang kết nối Qdrant...\n",
            "✅ Kết nối Qdrant thành công!\n",
            "❌ Lỗi kết nối Qdrant: [Errno -3] Temporary failure in name resolution\n",
            "\n",
            "Chi tiết lỗi:\n",
            "\n",
            "🔧 Các giải pháp:\n",
            "1. Kiểm tra Qdrant service có đang chạy không:\n",
            "   - Docker: docker-compose up qdrant\n",
            "   - Standalone: systemctl status qdrant\n",
            "2. Kiểm tra port 6333 có accessible không\n",
            "3. Thử kết nối localhost thay vì 'qdrant' host\n",
            "4. Chạy: settings.patch_localhost() nếu notebook chạy ngoài container\n"
          ]
        },
        {
          "name": "stderr",
          "output_type": "stream",
          "text": [
            "Traceback (most recent call last):\n",
            "  File \"/home/dino/.cache/pypoetry/virtualenvs/mathpal-EU7lYW5B-py3.11/lib/python3.11/site-packages/httpx/_transports/default.py\", line 101, in map_httpcore_exceptions\n",
            "    yield\n",
            "  File \"/home/dino/.cache/pypoetry/virtualenvs/mathpal-EU7lYW5B-py3.11/lib/python3.11/site-packages/httpx/_transports/default.py\", line 250, in handle_request\n",
            "    resp = self._pool.handle_request(req)\n",
            "           ^^^^^^^^^^^^^^^^^^^^^^^^^^^^^^\n",
            "  File \"/home/dino/.cache/pypoetry/virtualenvs/mathpal-EU7lYW5B-py3.11/lib/python3.11/site-packages/httpcore/_sync/connection_pool.py\", line 256, in handle_request\n",
            "    raise exc from None\n",
            "  File \"/home/dino/.cache/pypoetry/virtualenvs/mathpal-EU7lYW5B-py3.11/lib/python3.11/site-packages/httpcore/_sync/connection_pool.py\", line 236, in handle_request\n",
            "    response = connection.handle_request(\n",
            "               ^^^^^^^^^^^^^^^^^^^^^^^^^^\n",
            "  File \"/home/dino/.cache/pypoetry/virtualenvs/mathpal-EU7lYW5B-py3.11/lib/python3.11/site-packages/httpcore/_sync/connection.py\", line 101, in handle_request\n",
            "    raise exc\n",
            "  File \"/home/dino/.cache/pypoetry/virtualenvs/mathpal-EU7lYW5B-py3.11/lib/python3.11/site-packages/httpcore/_sync/connection.py\", line 78, in handle_request\n",
            "    stream = self._connect(request)\n",
            "             ^^^^^^^^^^^^^^^^^^^^^^\n",
            "  File \"/home/dino/.cache/pypoetry/virtualenvs/mathpal-EU7lYW5B-py3.11/lib/python3.11/site-packages/httpcore/_sync/connection.py\", line 124, in _connect\n",
            "    stream = self._network_backend.connect_tcp(**kwargs)\n",
            "             ^^^^^^^^^^^^^^^^^^^^^^^^^^^^^^^^^^^^^^^^^^^\n",
            "  File \"/home/dino/.cache/pypoetry/virtualenvs/mathpal-EU7lYW5B-py3.11/lib/python3.11/site-packages/httpcore/_backends/sync.py\", line 207, in connect_tcp\n",
            "    with map_exceptions(exc_map):\n",
            "  File \"/home/dino/.pyenv/versions/3.11.8/lib/python3.11/contextlib.py\", line 158, in __exit__\n",
            "    self.gen.throw(typ, value, traceback)\n",
            "  File \"/home/dino/.cache/pypoetry/virtualenvs/mathpal-EU7lYW5B-py3.11/lib/python3.11/site-packages/httpcore/_exceptions.py\", line 14, in map_exceptions\n",
            "    raise to_exc(exc) from exc\n",
            "httpcore.ConnectError: [Errno -3] Temporary failure in name resolution\n",
            "\n",
            "The above exception was the direct cause of the following exception:\n",
            "\n",
            "Traceback (most recent call last):\n",
            "  File \"/home/dino/.cache/pypoetry/virtualenvs/mathpal-EU7lYW5B-py3.11/lib/python3.11/site-packages/qdrant_client/http/api_client.py\", line 134, in send_inner\n",
            "    response = self._client.send(request)\n",
            "               ^^^^^^^^^^^^^^^^^^^^^^^^^^\n",
            "  File \"/home/dino/.cache/pypoetry/virtualenvs/mathpal-EU7lYW5B-py3.11/lib/python3.11/site-packages/httpx/_client.py\", line 914, in send\n",
            "    response = self._send_handling_auth(\n",
            "               ^^^^^^^^^^^^^^^^^^^^^^^^^\n",
            "  File \"/home/dino/.cache/pypoetry/virtualenvs/mathpal-EU7lYW5B-py3.11/lib/python3.11/site-packages/httpx/_client.py\", line 942, in _send_handling_auth\n",
            "    response = self._send_handling_redirects(\n",
            "               ^^^^^^^^^^^^^^^^^^^^^^^^^^^^^^\n",
            "  File \"/home/dino/.cache/pypoetry/virtualenvs/mathpal-EU7lYW5B-py3.11/lib/python3.11/site-packages/httpx/_client.py\", line 979, in _send_handling_redirects\n",
            "    response = self._send_single_request(request)\n",
            "               ^^^^^^^^^^^^^^^^^^^^^^^^^^^^^^^^^^\n",
            "  File \"/home/dino/.cache/pypoetry/virtualenvs/mathpal-EU7lYW5B-py3.11/lib/python3.11/site-packages/httpx/_client.py\", line 1014, in _send_single_request\n",
            "    response = transport.handle_request(request)\n",
            "               ^^^^^^^^^^^^^^^^^^^^^^^^^^^^^^^^^\n",
            "  File \"/home/dino/.cache/pypoetry/virtualenvs/mathpal-EU7lYW5B-py3.11/lib/python3.11/site-packages/httpx/_transports/default.py\", line 249, in handle_request\n",
            "    with map_httpcore_exceptions():\n",
            "  File \"/home/dino/.pyenv/versions/3.11.8/lib/python3.11/contextlib.py\", line 158, in __exit__\n",
            "    self.gen.throw(typ, value, traceback)\n",
            "  File \"/home/dino/.cache/pypoetry/virtualenvs/mathpal-EU7lYW5B-py3.11/lib/python3.11/site-packages/httpx/_transports/default.py\", line 118, in map_httpcore_exceptions\n",
            "    raise mapped_exc(message) from exc\n",
            "httpx.ConnectError: [Errno -3] Temporary failure in name resolution\n",
            "\n",
            "During handling of the above exception, another exception occurred:\n",
            "\n",
            "Traceback (most recent call last):\n",
            "  File \"/tmp/ipykernel_2277881/4050847061.py\", line 7, in <module>\n",
            "    client_info = qdrant_client._instance.get_collections()\n",
            "                  ^^^^^^^^^^^^^^^^^^^^^^^^^^^^^^^^^^^^^^^^^\n",
            "  File \"/home/dino/.cache/pypoetry/virtualenvs/mathpal-EU7lYW5B-py3.11/lib/python3.11/site-packages/qdrant_client/qdrant_client.py\", line 2210, in get_collections\n",
            "    return self._client.get_collections(**kwargs)\n",
            "           ^^^^^^^^^^^^^^^^^^^^^^^^^^^^^^^^^^^^^^\n",
            "  File \"/home/dino/.cache/pypoetry/virtualenvs/mathpal-EU7lYW5B-py3.11/lib/python3.11/site-packages/qdrant_client/qdrant_remote.py\", line 2571, in get_collections\n",
            "    self.http.collections_api.get_collections().result\n",
            "    ^^^^^^^^^^^^^^^^^^^^^^^^^^^^^^^^^^^^^^^^^^^\n",
            "  File \"/home/dino/.cache/pypoetry/virtualenvs/mathpal-EU7lYW5B-py3.11/lib/python3.11/site-packages/qdrant_client/http/api/collections_api.py\", line 330, in get_collections\n",
            "    return self._build_for_get_collections()\n",
            "           ^^^^^^^^^^^^^^^^^^^^^^^^^^^^^^^^^\n",
            "  File \"/home/dino/.cache/pypoetry/virtualenvs/mathpal-EU7lYW5B-py3.11/lib/python3.11/site-packages/qdrant_client/http/api/collections_api.py\", line 159, in _build_for_get_collections\n",
            "    return self.api_client.request(\n",
            "           ^^^^^^^^^^^^^^^^^^^^^^^^\n",
            "  File \"/home/dino/.cache/pypoetry/virtualenvs/mathpal-EU7lYW5B-py3.11/lib/python3.11/site-packages/qdrant_client/http/api_client.py\", line 95, in request\n",
            "    return self.send(request, type_)\n",
            "           ^^^^^^^^^^^^^^^^^^^^^^^^^\n",
            "  File \"/home/dino/.cache/pypoetry/virtualenvs/mathpal-EU7lYW5B-py3.11/lib/python3.11/site-packages/qdrant_client/http/api_client.py\", line 112, in send\n",
            "    response = self.middleware(request, self.send_inner)\n",
            "               ^^^^^^^^^^^^^^^^^^^^^^^^^^^^^^^^^^^^^^^^^\n",
            "  File \"/home/dino/.cache/pypoetry/virtualenvs/mathpal-EU7lYW5B-py3.11/lib/python3.11/site-packages/qdrant_client/http/api_client.py\", line 250, in __call__\n",
            "    return call_next(request)\n",
            "           ^^^^^^^^^^^^^^^^^^\n",
            "  File \"/home/dino/.cache/pypoetry/virtualenvs/mathpal-EU7lYW5B-py3.11/lib/python3.11/site-packages/qdrant_client/http/api_client.py\", line 136, in send_inner\n",
            "    raise ResponseHandlingException(e)\n",
            "qdrant_client.http.exceptions.ResponseHandlingException: [Errno -3] Temporary failure in name resolution\n"
          ]
        }
      ],
      "source": [
        "try:\n",
        "    print(\"Đang kết nối Qdrant...\")\n",
        "    qdrant_client = QdrantDatabaseConnector()\n",
        "    print(\"✅ Kết nối Qdrant thành công!\")\n",
        "    \n",
        "    # Test kết nối cơ bản\n",
        "    client_info = qdrant_client._instance.get_collections()\n",
        "    print(f\"✅ Có thể truy cập Qdrant, số collections hiện tại: {len(client_info.collections)}\")\n",
        "    \n",
        "except Exception as e:\n",
        "    print(f\"❌ Lỗi kết nối Qdrant: {e}\")\n",
        "    print(\"\\nChi tiết lỗi:\")\n",
        "    traceback.print_exc()\n",
        "    \n",
        "    print(\"\\n🔧 Các giải pháp:\")\n",
        "    print(\"1. Kiểm tra Qdrant service có đang chạy không:\")\n",
        "    print(\"   - Docker: docker-compose up qdrant\")\n",
        "    print(\"   - Standalone: systemctl status qdrant\")\n",
        "    print(\"2. Kiểm tra port 6333 có accessible không\")\n",
        "    print(\"3. Thử kết nối localhost thay vì 'qdrant' host\")\n",
        "    print(\"4. Chạy: settings.patch_localhost() nếu notebook chạy ngoài container\")\n"
      ]
    },
    {
      "cell_type": "code",
      "execution_count": 4,
      "metadata": {},
      "outputs": [
        {
          "name": "stdout",
          "output_type": "stream",
          "text": [
            "=== Thử kết nối với localhost ===\n",
            "✅ Đã chuyển sang cấu hình localhost\n",
            "Host mới: localhost\n",
            "HTTP Request: GET http://localhost:6333 \"HTTP/1.1 200 OK\"\n",
            "HTTP Request: GET http://localhost:6333/collections \"HTTP/1.1 200 OK\"\n",
            "✅ Kết nối localhost thành công! Có 2 collections\n"
          ]
        }
      ],
      "source": [
        "# Nếu gặp lỗi kết nối, thử patch localhost\n",
        "print(\"=== Thử kết nối với localhost ===\")\n",
        "try:\n",
        "    settings.patch_localhost()\n",
        "    print(\"✅ Đã chuyển sang cấu hình localhost\")\n",
        "    print(f\"Host mới: {settings.QDRANT_DATABASE_HOST}\")\n",
        "    \n",
        "    # Tạo connection mới với localhost\n",
        "    qdrant_client = QdrantDatabaseConnector()\n",
        "    client_info = qdrant_client._instance.get_collections()\n",
        "    print(f\"✅ Kết nối localhost thành công! Có {len(client_info.collections)} collections\")\n",
        "    \n",
        "except Exception as e:\n",
        "    print(f\"❌ Vẫn lỗi với localhost: {e}\")\n",
        "    print(\"💡 Hãy chạy: docker-compose up -d qdrant\")\n"
      ]
    },
    {
      "cell_type": "raw",
      "metadata": {
        "vscode": {
          "languageId": "raw"
        }
      },
      "source": [
        "## Bước 3: Kiểm tra collection \"cleaned_exams\"\n"
      ]
    },
    {
      "cell_type": "code",
      "execution_count": 5,
      "metadata": {},
      "outputs": [
        {
          "name": "stdout",
          "output_type": "stream",
          "text": [
            "HTTP Request: GET http://localhost:6333/collections \"HTTP/1.1 200 OK\"\n",
            "=== Danh sách Collections trong Qdrant ===\n",
            "📁 vector_exams\n",
            "📁 cleaned_exams\n",
            "\n",
            "✅ Collection 'cleaned_exams' đã tồn tại\n",
            "HTTP Request: GET http://localhost:6333/collections/cleaned_exams \"HTTP/1.1 200 OK\"\n",
            "📊 Thông tin collection: status=<CollectionStatus.GREEN: 'green'> optimizer_status=<OptimizersStatusOneOf.OK: 'ok'> vectors_count=None indexed_vectors_count=0 points_count=3 segments_count=8 config=CollectionConfig(params=CollectionParams(vectors={}, shard_number=1, sharding_method=None, replication_factor=1, write_consistency_factor=1, read_fan_out_factor=None, on_disk_payload=True, sparse_vectors=None), hnsw_config=HnswConfig(m=16, ef_construct=100, full_scan_threshold=10000, max_indexing_threads=0, on_disk=False, payload_m=None), optimizer_config=OptimizersConfig(deleted_threshold=0.2, vacuum_min_vector_number=1000, default_segment_number=0, max_segment_size=None, memmap_threshold=None, indexing_threshold=10000, flush_interval_sec=5, max_optimization_threads=None), wal_config=WalConfig(wal_capacity_mb=32, wal_segments_ahead=0), quantization_config=None, strict_mode_config=StrictModeConfigOutput(enabled=False, max_query_limit=None, max_timeout=None, unindexed_filtering_retrieve=None, unindexed_filtering_update=None, search_max_hnsw_ef=None, search_allow_exact=None, search_max_oversampling=None, upsert_max_batchsize=None, max_collection_vector_size_bytes=None, read_rate_limit=None, write_rate_limit=None, max_collection_payload_size_bytes=None, max_points_count=None, filter_max_conditions=None, condition_max_size=None, multivector_config=None, sparse_config=None)) payload_schema={}\n"
          ]
        }
      ],
      "source": [
        "try:\n",
        "    collections = qdrant_client._instance.get_collections()\n",
        "    print(\"=== Danh sách Collections trong Qdrant ===\")\n",
        "    \n",
        "    if not collections.collections:\n",
        "        print(\"⚠️ Không có collection nào trong Qdrant\")\n",
        "    else:\n",
        "        for collection in collections.collections:\n",
        "            print(f\"📁 {collection.name}\")\n",
        "            \n",
        "    # Kiểm tra xem cleaned_exams có tồn tại không\n",
        "    collection_names = [c.name for c in collections.collections]\n",
        "    if \"cleaned_exams\" in collection_names:\n",
        "        print(\"\\n✅ Collection 'cleaned_exams' đã tồn tại\")\n",
        "        \n",
        "        # Lấy thông tin chi tiết\n",
        "        collection_info = qdrant_client.get_collection(\"cleaned_exams\")\n",
        "        print(f\"📊 Thông tin collection: {collection_info}\")\n",
        "        \n",
        "    else:\n",
        "        print(\"\\n❌ Collection 'cleaned_exams' KHÔNG tồn tại\")\n",
        "        print(\"💡 Sẽ được tạo tự động ở bước tiếp theo\")\n",
        "        \n",
        "except Exception as e:\n",
        "    print(f\"❌ Lỗi khi kiểm tra collections: {e}\")\n",
        "    traceback.print_exc()\n"
      ]
    },
    {
      "cell_type": "raw",
      "metadata": {
        "vscode": {
          "languageId": "raw"
        }
      },
      "source": [
        "## Bước 4: Tạo collection \"cleaned_exams\" nếu chưa có\n"
      ]
    },
    {
      "cell_type": "code",
      "execution_count": 6,
      "metadata": {},
      "outputs": [
        {
          "name": "stdout",
          "output_type": "stream",
          "text": [
            "HTTP Request: GET http://localhost:6333/collections/cleaned_exams \"HTTP/1.1 200 OK\"\n",
            "✅ Collection 'cleaned_exams' đã tồn tại\n",
            "📊 Thông tin: status=<CollectionStatus.GREEN: 'green'> optimizer_status=<OptimizersStatusOneOf.OK: 'ok'> vectors_count=None indexed_vectors_count=0 points_count=3 segments_count=8 config=CollectionConfig(params=CollectionParams(vectors={}, shard_number=1, sharding_method=None, replication_factor=1, write_consistency_factor=1, read_fan_out_factor=None, on_disk_payload=True, sparse_vectors=None), hnsw_config=HnswConfig(m=16, ef_construct=100, full_scan_threshold=10000, max_indexing_threads=0, on_disk=False, payload_m=None), optimizer_config=OptimizersConfig(deleted_threshold=0.2, vacuum_min_vector_number=1000, default_segment_number=0, max_segment_size=None, memmap_threshold=None, indexing_threshold=10000, flush_interval_sec=5, max_optimization_threads=None), wal_config=WalConfig(wal_capacity_mb=32, wal_segments_ahead=0), quantization_config=None, strict_mode_config=StrictModeConfigOutput(enabled=False, max_query_limit=None, max_timeout=None, unindexed_filtering_retrieve=None, unindexed_filtering_update=None, search_max_hnsw_ef=None, search_allow_exact=None, search_max_oversampling=None, upsert_max_batchsize=None, max_collection_vector_size_bytes=None, read_rate_limit=None, write_rate_limit=None, max_collection_payload_size_bytes=None, max_points_count=None, filter_max_conditions=None, condition_max_size=None, multivector_config=None, sparse_config=None)) payload_schema={}\n"
          ]
        }
      ],
      "source": [
        "try:\n",
        "    # Thử get collection trước\n",
        "    try:\n",
        "        collection_info = qdrant_client.get_collection(\"cleaned_exams\")\n",
        "        print(\"✅ Collection 'cleaned_exams' đã tồn tại\")\n",
        "        print(f\"📊 Thông tin: {collection_info}\")\n",
        "    except UnexpectedResponse as e:\n",
        "        if \"doesn't exist\" in str(e) or \"not found\" in str(e).lower():\n",
        "            print(\"⚠️ Collection 'cleaned_exams' chưa tồn tại, đang tạo...\")\n",
        "            \n",
        "            # Tạo non-vector collection cho cleaned_exams\n",
        "            qdrant_client.create_non_vector_collection(\"cleaned_exams\")\n",
        "            print(\"✅ Đã tạo collection 'cleaned_exams' thành công!\")\n",
        "            \n",
        "            # Verify collection đã được tạo\n",
        "            collection_info = qdrant_client.get_collection(\"cleaned_exams\")\n",
        "            print(f\"✅ Xác nhận collection đã tạo: {collection_info}\")\n",
        "        else:\n",
        "            raise e\n",
        "            \n",
        "except Exception as e:\n",
        "    print(f\"❌ Lỗi khi tạo collection: {e}\")\n",
        "    traceback.print_exc()\n"
      ]
    },
    {
      "cell_type": "raw",
      "metadata": {
        "vscode": {
          "languageId": "raw"
        }
      },
      "source": [
        "## Bước 5: Test đọc dữ liệu từ \"cleaned_exams\"\n"
      ]
    },
    {
      "cell_type": "code",
      "execution_count": 7,
      "metadata": {},
      "outputs": [
        {
          "name": "stdout",
          "output_type": "stream",
          "text": [
            "=== Test đọc dữ liệu từ cleaned_exams ===\n",
            "HTTP Request: POST http://localhost:6333/collections/cleaned_exams/points/scroll \"HTTP/1.1 200 OK\"\n",
            "✅ Tìm thấy 3 records trong cleaned_exams\n",
            "\n",
            "📋 Mẫu dữ liệu đầu tiên:\n",
            "ID: 9f43a64b-676c-4268-b8a8-fccd7c2b358b\n",
            "Payload: {'type': 'exam', 'link': 'https://loigiaihay.com/de-thi-vao-lop-6-mon-toan-truong-nguyen-tat-thanh-nam-2025-co-dap-an-a185630.html', 'cleaned_content': '**Đáp án**\\n**HƯỚNG DẪN GIẢI CHI TIẾT**\\n**I. TRẮC NGHIỆM**\\n**Câu 1****(0,5 điểm)****.** Cho biểu đồ như hình dưới đây. Tìm tỉ số phần trăm số học sinh khối 9 so với số học sinh toàn trường.\\n![](https://img.loigiaihay.com/picture/2025/0602/20_1.png)\\n**A.** 22,5% **B.** 12,5% **C.** 32% **D.** 25%\\n**Cách giải:**\\nSố học sinh khối 6 được biểu diễn là 14\\nTỉ số phần trăm học sinh khối 9 là: 100% - (12,5% + 40% + 25%) = 22,5%\\n**Đáp số: 22,5%**\\n**Câu 2****(0,5 điểm)****.** Gieo 1 viên xúc sắc 20 lần liên tiếp kết quả nhận được như bảng sau:\\n![](https://img.loigiaihay.com/picture/2025/0602/20_1.PNG)\\nTỉ số giữa số lần xuất hiện mặt có số chấm là số lẻ và tổng số lần đã gieo là bao nhiêu?\\n**A.** 920**B.** 1120**C.** 320**D.** 120\\n**Cách giải:**\\nSố lần xuất hiện mặt có chấm là số lẻ là: 5 + 3 + 1 = 9 (lần)\\nTỉ số giữa số lần xuất hiện mặt số chấm là số lẻ và tổng số lần đã gieo là: 9:20=920\\n**Đáp số:** 920\\n**Câu 3 (0,5 điểm).** Tìm số tự nhiên thích hợp điền vào chỗ trống là: 526<....26<625\\n**A.** 3 **B.** 4 **C.** 5 **D.** 6\\n**Cách giải:**\\nSố tự nhiên cần điền là: 6\\n**Đáp án: 6**\\n**Câu 4****(0,5 điểm)****.** Tính kết quả của phép tính:\\n20,26 x 42,6 + 20,26 x 57,4\\n**A.** 20,26 **B.** 202,6 **C.** 2026 **D.** 2025\\n**Cách giải:**\\n20,26 x 42,6 + 20,26 x 57,4\\n= 20,26 x (42,6 + 57,4)\\n= 20,26 x 100\\n= 2026\\n**Đáp án: 2026**\\n**Câu 5****(0,5 điểm)****.** Nhà bác An có một mảnh đất. Bác An dùng 35\\nPhần còn lại có diện tích là 60m2. Tính diện tích mảnh đất.\\n**A.** 36m² **B.** 100 m² **C.** 24 m² **D.** 150 m²\\n**Cách giải:**\\nCoi diện tích mảnh đất là 1 đơn vị.\\nPhân số chỉ 60 m2 là: 1−35=25\\nDiện tích mảnh đất là: 60 : 2 x 5 = 150 (m2)\\n**Đáp****án****: 150 m****2**\\n**Câu 6****(0,5 điểm)** Một miếng bìa hình chữ nhật có chiều dài là 25cm và chiều rộng là 20cm. Người ta cắt 4 góc miếng bìa hình vuông có cạnh là 5cm và gấp thành hình hộp chữ nhật (như hình dưới). Tính thể tích hình hộp chữ nhật đó.\\n![](https://img.loigiaihay.com/picture/2025/0602/21_1.png)\\n**A.** 200cm³ **B.** 1500cm³ **C.** 750cm³ **D.** 600cm³\\n**Cách giải:**\\nChiều rộng của hình hộp chữ nhật là: 20 – (5 + 5) = 10 (cm)\\nChiều dài của hình hộp chữ nhật là: 25 – (5 + 5) = 15 (cm)\\nChiều cao của hình hộp chữ nhật là 5cm.\\nThể tích của hình đó là: 15 x 10 x 5 = 750 (cm3)\\n**Đáp****án****: 750cm**\\n**Câu 7****(0,5 điểm)****.** Cho nửa hình tròn có đường kính 40cm, người thợ mộc cắt 2 nửa hình tròn có đường kính bằng bán kính của hình tròn trước. Tính diện tích của hình tròn mới bị cắt.\\n![](https://img.loigiaihay.com/picture/2025/0602/22_1.png)\\n**A.** 314 cm² **B.** 628 cm² **C.** 942 cm² **D.** 154 cm²\\n**Cách giải:**\\nĐường kính hình tròn mới là: 40 : 2 = 20 (cm)\\nBán kính hình tròn mới là: 20 : 2 = 10 (cm)\\nDiện tích hình tròn mới bị cắt là: 10 x 10 x 3,14 = 314 (cm2)\\n**Đáp****án****: 314 cm****2**\\n**Câu 8. (0,5 điểm)**. Có bao nhiêu số có 2 chữ số mà chữ số hàng chục lớn hơn chữ số hàng đơn\\nvị là 4.\\n**A.** 3 **B.** 4 **C.** 5 **D.** 6\\n**Cách giải:**\\nCác số thỏa mãn là: 40; 51; 62; 73; 84; 95. Vậy có 6 số thỏa mãn yêu cầu bài toán.\\n**Đáp****án****: 6 số**\\n**II. Viết đáp số vào ô****trả lời tương ứng với mỗi câu hỏi**\\n**Câu****9****.** (0,75 điểm) Một chiếc áo có giá 500 000 đồng. Vì không ai mua nên giảm giá 20% so với giá ban đầu. Nhưng vẫn không ai mua nên giảm giá tiếp 40% so với giá giảm lần đầu. Hỏi giá chiếc áo sau 2 lần giảm là bao nhiêu?\\n**Cách giải:**\\nGiá chiếc áo sau khi giảm lần đầu là: 500 000 – 500 000 × 20 : 100 = 400 000 (đồng)\\nGiá chiếc áo sau khi giảm lần hai là: 400 000 – 400 000 × 40 : 100 = 240 000 (đồng)\\n**Đáp số: 240 000 đồng**\\n**Câu****10****.** (0,75 điểm) Trên quãng đường AB dài 200km có hai người đi ngược chiều nhau. Lúc 7 giờ 30 phút có 1 xe tải đi từ A đến B với vận tốc 40km/giờ. Sau 30 phút có 1 xe khách đi từ B đến A với vận tốc 60km/giờ. Hỏi lúc 9 giờ cùng ngày hai xe cách nhau bao nhiêu ki-lô-mét?\\n**Cách giải:**\\nĐổi: 30 phút = 0,5 giờ\\nLúc 9 giờ xe tải đi được số giờ là: 9 giờ - 7 giờ 30 phút = 1 giờ 30 phút = 1,5 giờ\\nLúc 9 giờ quãng đường xe tải đã đi được là: 40 x 1,5 = 60 (km)\\nLúc 9 giờ xe khách đi được số giờ là: 9 giờ - 7 giờ 30 phút – 30 phút = 1 (giờ)\\nLúc 9 giờ quãng đường xe khách đã đi được là: 60 x 1 = 60 (km)\\nLúc 9 giờ hai xe cách nhau là: 200 – 60 – 60 = 80 (km)\\n**Đáp số: 80km**\\n**Câu****11**(0,75 điểm)**.** Tổng số học sinh lớp 5A là 45 học sinh. Biết số học sinh nam bằng 45\\n**Cách giải:**\\nSố học sinh nữ là: 45 : (4 + 5) x 5 = 25 (học sinh)\\n**Đáp số: 25 học sinh**\\n**Câu 12.** (0,75 điểm) Có 15 hình lập phương nhỏ có cạnh 1cm. Người ta xếp 15 hình lập phương này thành một hình lập phương lớn. Hỏi diện tích toàn phần lớn nhất của hình hộp chữ nhật là bao nhiêu?\\n**Cách giải:**\\nTa có: 15 = 1 x 1 x 15 =1 x 3 x 5\\nKích thước của hình hộp chữ nhật sau khi xếp có thể là:\\n1cm x 1cm x 15cm hoặc 1cm x 3cm x 5cm.\\nTrường hợp kích thước 1cm x 1cm x 15cm thì diện tích toàn phần là:\\n(1 + 15) x 2 x 1 + 1 x 15 x 2 = 62 (cm²)\\nTrường hợp kích thước 1cm x 3cm x 5cm diện tích toàn phần là:\\n(1 + 5) x 2 x 3 + 1 x 5 x 2 = 46 (cm2)\\nVậy diện tích toàn phần lớn nhất là 62cm2\\n**Đáp số: 62cm 2**\\n**III. TỰ LUẬN**\\n**Câu 13** (1 điểm). Để lập ra quỹ ủng hộ, lớp 6A và 6B bán đồ handmade, số tiền mà lớp 6B nhận được nhiều hơn số tiền lớp 6A nhận được là 2 triệu đồng. Trung bình cộng số tiền hai lớp thu được là 5 triệu đồng. Hỏi mỗi lớp nhận được bao nhiêu tiền?\\n**Cách giải**\\nTổng số tiền lớp 6A và 6B là:\\n5 x 2 = 10 (triệu đồng)\\nSố tiền lớp 6B nhận được là:\\n(10 + 2) : 2 = 6 (triệu đồng)\\nSố tiền lớp 6A nhận được là:\\n10 – 6 = 4 (triệu đồng)\\nĐáp số: 6A: 4 triệu đồng\\n6B: 6 triệu đồng\\n**Câu 14**(1 điểm)**.** Cho quãng đường AB có độ dài là 180km. Vận tốc xe máy là 45km/giờ, xe ô tô là 60km/giờ. Hỏi sau bao lâu thì quãng đường còn lại của xe máy gấp đôi ô tô biết 2 xe đi cùng chiều.\\n**Cách giải**\\n![](https://img.loigiaihay.com/picture/2025/0602/23.PNG)\\nGọi quãng đường đã đi của ô tô là AC. Quãng đường còn lại là CB.\\nQuãng đường đã đi của xe máy là AD. Quãng đường còn lại là DB.\\nTa có CB = 1212\\nTỉ số vận tốc xe máy và ô tô là : 45 : 60 = 34\\nCùng thời gian thì vận tốc và quãng đường tỉ lệ thuận với nhau, suy ra:\\nTỉ lệ quãng đường đã đi của xe máy và ô tô là 34ADAC=34\\nCoi AC là 4 phần, AD là 3 phần. DC là 1 phần, CB là 1 phần. Suy ra AB là 5 phần.\\nQuãng đường đã đi của ô tô là: 180 : 5 x 4 = 144 (km)\\nThời gian đã đi của 2 xe là: 144 : 60 = 2,4 (giờ)\\nĐáp số: 2,4 giờ\\n**Câu 15** (1 điểm). Cho tam giác ABC. Trên AB lấy điểm D sao cho AD = 2 BD. Trên BC lấy điểm\\nE sao cho BE = 2 CE. Đoạn thẳng AD, CE cắt nhau tại F. Biết diện tích tam giác ACF là 20 cm2.\\nTính diện tích tam giác ABC.\\n**Cách giải:**\\n![](https://img.loigiaihay.com/picture/2025/0602/24.png)\\nNối B với F\\nHai tam giác ADC và tam giác CBD có chung chiều cao hạ từ C và AD = 2 x BD\\nSuy ra: SADC = 2 x SCBD\\nHai tam giác AFD và BFD có chung chiều cao F và AD = 2 x BD\\nSuy ra: SAFD = 2 x SBFD\\nTừ đó suy ra: SADC - SAFD = 2 x (SCBD - SBFD)\\nhay SAFC = 2 x SBFC\\nSBFC = 20 : 2 x 1 = 10 (cm2)\\nLàm tương tự ta được: SAFC = 12AFB\\nSAFB = 20 x 2 = 40 (cm2)\\nSABC = SBFC + SAFB + SAFC = 10 + 40 + 20 = 70 (cm2)\\nĐáp số: 70 cm2\\n**  \\n**', 'grade_id': 'e1403d26-0fc4-4cab-b66d-34c2393abadf'}\n"
          ]
        }
      ],
      "source": [
        "try:\n",
        "    print(\"=== Test đọc dữ liệu từ cleaned_exams ===\")\n",
        "    \n",
        "    # Scroll để lấy dữ liệu\n",
        "    result = qdrant_client.scroll(collection_name=\"cleaned_exams\", limit=10)\n",
        "    \n",
        "    if result[0]:  # Có dữ liệu\n",
        "        print(f\"✅ Tìm thấy {len(result[0])} records trong cleaned_exams\")\n",
        "        \n",
        "        # Hiển thị mẫu dữ liệu đầu tiên\n",
        "        if result[0]:\n",
        "            sample = result[0][0]\n",
        "            print(\"\\n📋 Mẫu dữ liệu đầu tiên:\")\n",
        "            print(f\"ID: {sample.id}\")\n",
        "            print(f\"Payload: {sample.payload}\")\n",
        "    else:\n",
        "        print(\"⚠️ Collection 'cleaned_exams' trống (chưa có dữ liệu)\")\n",
        "        print(\"   Điều này bình thường nếu chưa chạy data pipeline\")\n",
        "        print(\"   Để có dữ liệu: docker-compose up data-crawlers && docker-compose up feature_pipeline\")\n",
        "        \n",
        "except Exception as e:\n",
        "    print(f\"❌ Lỗi khi đọc dữ liệu từ cleaned_exams: {e}\")\n",
        "    traceback.print_exc()\n"
      ]
    },
    {
      "cell_type": "raw",
      "metadata": {
        "vscode": {
          "languageId": "raw"
        }
      },
      "source": [
        "## 🔧 TỔNG KẾT VÀ GIẢI PHÁP\n",
        "\n",
        "### ✅ **Cách sử dụng `cleaned_exams` trong code:**\n",
        "\n",
        "```python\n",
        "from core.db.qdrant import QdrantDatabaseConnector\n",
        "from core.config import settings\n",
        "\n",
        "# Nếu chạy từ notebook (ngoài container)\n",
        "settings.patch_localhost()\n",
        "\n",
        "# Kết nối Qdrant\n",
        "qdrant = QdrantDatabaseConnector()\n",
        "\n",
        "# Đọc dữ liệu từ cleaned_exams\n",
        "result = qdrant.scroll(\"cleaned_exams\", limit=10)\n",
        "points = result[0]  # List các points\n",
        "\n",
        "# Tìm kiếm (nếu cần)\n",
        "# result = qdrant.search(\"cleaned_exams\", query_vector=[], limit=5)\n",
        "```\n",
        "\n",
        "### 🚨 **Các lỗi phổ biến và cách khắc phục:**\n",
        "\n",
        "1. **\"Connection refused\"** \n",
        "   - ➡️ Chạy: `docker-compose up -d qdrant`\n",
        "   - ➡️ Sử dụng: `settings.patch_localhost()`\n",
        "\n",
        "2. **\"Collection doesn't exist\"**\n",
        "   - ➡️ Collection sẽ được tạo tự động khi chạy pipeline\n",
        "   - ➡️ Hoặc tạo thủ công: `qdrant.create_non_vector_collection(\"cleaned_exams\")`\n",
        "\n",
        "3. **\"Empty collection\"**\n",
        "   - ➡️ Chạy data crawling: `docker-compose up data-crawlers`\n",
        "   - ➡️ Chạy feature pipeline: `docker-compose up feature_pipeline`\n"
      ]
    },
    {
      "cell_type": "code",
      "execution_count": 8,
      "metadata": {},
      "outputs": [
        {
          "name": "stdout",
          "output_type": "stream",
          "text": [
            "=== DEMO: Cách sử dụng cleaned_exams ===\n",
            "HTTP Request: GET http://localhost:6333 \"HTTP/1.1 200 OK\"\n",
            "HTTP Request: GET http://localhost:6333/collections/cleaned_exams \"HTTP/1.1 200 OK\"\n",
            "✅ Collection cleaned_exams ready!\n",
            "HTTP Request: POST http://localhost:6333/collections/cleaned_exams/points/scroll \"HTTP/1.1 200 OK\"\n",
            "📊 Có 3 records\n",
            "Record 1: ID=9f43a64b-676c-4268-b8a8-fccd7c2b358b, Type=exam\n",
            "Record 2: ID=c28ee07a-27d7-47f5-bae8-380c5dcaf7a2, Type=exam\n",
            "Record 3: ID=f4023133-2e19-4284-ae35-1788c53074dc, Type=exam\n",
            "\n",
            "🎉 Demo thành công!\n"
          ]
        }
      ],
      "source": [
        "print(\"=== DEMO: Cách sử dụng cleaned_exams ===\")\n",
        "\n",
        "# Ví dụ code hoàn chỉnh để sử dụng cleaned_exams\n",
        "def demo_cleaned_exams_usage():\n",
        "    try:\n",
        "        # Đảm bảo kết nối localhost (nếu cần)\n",
        "        settings.patch_localhost()\n",
        "        \n",
        "        # Kết nối Qdrant\n",
        "        qdrant = QdrantDatabaseConnector()\n",
        "        \n",
        "        # Kiểm tra collection tồn tại\n",
        "        try:\n",
        "            collection_info = qdrant.get_collection(\"cleaned_exams\")\n",
        "            print(\"✅ Collection cleaned_exams ready!\")\n",
        "        except:\n",
        "            # Tạo collection nếu chưa có\n",
        "            qdrant.create_non_vector_collection(\"cleaned_exams\")\n",
        "            print(\"✅ Collection cleaned_exams created!\")\n",
        "        \n",
        "        # Đọc dữ liệu\n",
        "        result = qdrant.scroll(\"cleaned_exams\", limit=5)\n",
        "        \n",
        "        if result[0]:\n",
        "            print(f\"📊 Có {len(result[0])} records\")\n",
        "            for i, point in enumerate(result[0][:3], 1):\n",
        "                print(f\"Record {i}: ID={point.id}, Type={point.payload.get('type', 'N/A')}\")\n",
        "        else:\n",
        "            print(\"⚠️ Collection trống - cần chạy data pipeline\")\n",
        "        \n",
        "        return True\n",
        "        \n",
        "    except Exception as e:\n",
        "        print(f\"❌ Lỗi: {e}\")\n",
        "        return False\n",
        "\n",
        "# Chạy demo\n",
        "success = demo_cleaned_exams_usage()\n",
        "print(f\"\\n{'🎉 Demo thành công!' if success else '❌ Demo thất bại!'}\")\n"
      ]
    },
    {
      "cell_type": "code",
      "execution_count": null,
      "metadata": {},
      "outputs": [],
      "source": []
    }
  ],
  "metadata": {
    "kernelspec": {
      "display_name": "mathpal-EU7lYW5B-py3.11",
      "language": "python",
      "name": "python3"
    },
    "language_info": {
      "codemirror_mode": {
        "name": "ipython",
        "version": 3
      },
      "file_extension": ".py",
      "mimetype": "text/x-python",
      "name": "python",
      "nbconvert_exporter": "python",
      "pygments_lexer": "ipython3",
      "version": "3.11.8"
    }
  },
  "nbformat": 4,
  "nbformat_minor": 2
}
