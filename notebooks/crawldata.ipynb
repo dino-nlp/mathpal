{
 "cells": [
  {
   "cell_type": "markdown",
   "id": "2088667b",
   "metadata": {},
   "source": [
    "# Crawl data with Crawl4AI"
   ]
  },
  {
   "cell_type": "code",
   "execution_count": 3,
   "id": "011afbff",
   "metadata": {},
   "outputs": [],
   "source": [
    "from IPython.display import Markdown, display, HTML\n",
    "import pprint\n",
    "\n",
    "def printmd(content):\n",
    "    display(Markdown(content))\n",
    "    \n",
    "def printhtml(content):\n",
    "    display(HTML(content))"
   ]
  },
  {
   "cell_type": "code",
   "execution_count": 18,
   "id": "23af6b13",
   "metadata": {},
   "outputs": [],
   "source": [
    "sample_link=\"https://loigiaihay.com/de-thi-vao-lop-6-mon-toan-truong-cau-giay-nam-2023-a142098.html\""
   ]
  },
  {
   "cell_type": "code",
   "execution_count": 27,
   "id": "826682c0",
   "metadata": {},
   "outputs": [
    {
     "data": {
      "text/html": [
       "<pre style=\"white-space:pre;overflow-x:auto;line-height:normal;font-family:Menlo,'DejaVu Sans Mono',consolas,'Courier New',monospace\"><span style=\"color: #008080; text-decoration-color: #008080; font-weight: bold\">[</span><span style=\"color: #008080; text-decoration-color: #008080\">INIT</span><span style=\"color: #008080; text-decoration-color: #008080; font-weight: bold\">]</span><span style=\"color: #008080; text-decoration-color: #008080\">.... → Crawl4AI </span><span style=\"color: #008080; text-decoration-color: #008080; font-weight: bold\">0.7</span><span style=\"color: #008080; text-decoration-color: #008080\">.</span><span style=\"color: #008080; text-decoration-color: #008080; font-weight: bold\">2</span><span style=\"color: #008080; text-decoration-color: #008080\"> </span>\n",
       "</pre>\n"
      ],
      "text/plain": [
       "\u001b[1;36m[\u001b[0m\u001b[36mINIT\u001b[0m\u001b[1;36m]\u001b[0m\u001b[36m...\u001b[0m\u001b[36m. → Crawl4AI \u001b[0m\u001b[1;36m0.7\u001b[0m\u001b[36m.\u001b[0m\u001b[1;36m2\u001b[0m\u001b[36m \u001b[0m\n"
      ]
     },
     "metadata": {},
     "output_type": "display_data"
    },
    {
     "data": {
      "text/html": [
       "<pre style=\"white-space:pre;overflow-x:auto;line-height:normal;font-family:Menlo,'DejaVu Sans Mono',consolas,'Courier New',monospace\"><span style=\"color: #008000; text-decoration-color: #008000; font-weight: bold\">[</span><span style=\"color: #008000; text-decoration-color: #008000\">FETCH</span><span style=\"color: #008000; text-decoration-color: #008000; font-weight: bold\">]</span><span style=\"color: #008000; text-decoration-color: #008000\">... ↓ </span><span style=\"color: #008000; text-decoration-color: #008000; text-decoration: underline\">https://loigiaihay.com/de-thi-vao-lop-6-mon-toan-truong-cau-giay-nam-2023-a142098.html</span><span style=\"color: #008000; text-decoration-color: #008000\">               |</span>\n",
       "<span style=\"color: #008000; text-decoration-color: #008000\">✓ | ⏱: </span><span style=\"color: #008000; text-decoration-color: #008000; font-weight: bold\">1.</span><span style=\"color: #008000; text-decoration-color: #008000\">28s </span>\n",
       "</pre>\n"
      ],
      "text/plain": [
       "\u001b[1;32m[\u001b[0m\u001b[32mFETCH\u001b[0m\u001b[1;32m]\u001b[0m\u001b[32m...\u001b[0m\u001b[32m ↓ \u001b[0m\u001b[4;32mhttps://loigiaihay.com/de-thi-vao-lop-6-mon-toan-truong-cau-giay-nam-2023-a142098.html\u001b[0m\u001b[32m               |\u001b[0m\n",
       "\u001b[32m✓\u001b[0m\u001b[32m | ⏱: \u001b[0m\u001b[1;32m1.\u001b[0m\u001b[32m28s \u001b[0m\n"
      ]
     },
     "metadata": {},
     "output_type": "display_data"
    },
    {
     "data": {
      "text/html": [
       "<pre style=\"white-space:pre;overflow-x:auto;line-height:normal;font-family:Menlo,'DejaVu Sans Mono',consolas,'Courier New',monospace\"><span style=\"color: #008000; text-decoration-color: #008000; font-weight: bold\">[</span><span style=\"color: #008000; text-decoration-color: #008000\">SCRAPE</span><span style=\"color: #008000; text-decoration-color: #008000; font-weight: bold\">]</span><span style=\"color: #008000; text-decoration-color: #008000\">.. ◆ </span><span style=\"color: #008000; text-decoration-color: #008000; text-decoration: underline\">https://loigiaihay.com/de-thi-vao-lop-6-mon-toan-truong-cau-giay-nam-2023-a142098.html</span><span style=\"color: #008000; text-decoration-color: #008000\">               |</span>\n",
       "<span style=\"color: #008000; text-decoration-color: #008000\">✓ | ⏱: </span><span style=\"color: #008000; text-decoration-color: #008000; font-weight: bold\">0.</span><span style=\"color: #008000; text-decoration-color: #008000\">02s </span>\n",
       "</pre>\n"
      ],
      "text/plain": [
       "\u001b[1;32m[\u001b[0m\u001b[32mSCRAPE\u001b[0m\u001b[1;32m]\u001b[0m\u001b[32m.. ◆ \u001b[0m\u001b[4;32mhttps://loigiaihay.com/de-thi-vao-lop-6-mon-toan-truong-cau-giay-nam-2023-a142098.html\u001b[0m\u001b[32m               |\u001b[0m\n",
       "\u001b[32m✓\u001b[0m\u001b[32m | ⏱: \u001b[0m\u001b[1;32m0.\u001b[0m\u001b[32m02s \u001b[0m\n"
      ]
     },
     "metadata": {},
     "output_type": "display_data"
    },
    {
     "data": {
      "text/html": [
       "<pre style=\"white-space:pre;overflow-x:auto;line-height:normal;font-family:Menlo,'DejaVu Sans Mono',consolas,'Courier New',monospace\"><span style=\"color: #008000; text-decoration-color: #008000; font-weight: bold\">[</span><span style=\"color: #008000; text-decoration-color: #008000\">COMPLETE</span><span style=\"color: #008000; text-decoration-color: #008000; font-weight: bold\">]</span><span style=\"color: #008000; text-decoration-color: #008000\"> ● </span><span style=\"color: #008000; text-decoration-color: #008000; text-decoration: underline\">https://loigiaihay.com/de-thi-vao-lop-6-mon-toan-truong-cau-giay-nam-2023-a142098.html</span><span style=\"color: #008000; text-decoration-color: #008000\">               |</span>\n",
       "<span style=\"color: #008000; text-decoration-color: #008000\">✓ | ⏱: </span><span style=\"color: #008000; text-decoration-color: #008000; font-weight: bold\">1.</span><span style=\"color: #008000; text-decoration-color: #008000\">30s </span>\n",
       "</pre>\n"
      ],
      "text/plain": [
       "\u001b[1;32m[\u001b[0m\u001b[32mCOMPLETE\u001b[0m\u001b[1;32m]\u001b[0m\u001b[32m ● \u001b[0m\u001b[4;32mhttps://loigiaihay.com/de-thi-vao-lop-6-mon-toan-truong-cau-giay-nam-2023-a142098.html\u001b[0m\u001b[32m               |\u001b[0m\n",
       "\u001b[32m✓\u001b[0m\u001b[32m | ⏱: \u001b[0m\u001b[1;32m1.\u001b[0m\u001b[32m30s \u001b[0m\n"
      ]
     },
     "metadata": {},
     "output_type": "display_data"
    }
   ],
   "source": [
    "import asyncio\n",
    "import json\n",
    "from crawl4ai import AsyncWebCrawler, CrawlerRunConfig, CacheMode\n",
    "from crawl4ai.markdown_generation_strategy import DefaultMarkdownGenerator\n",
    "\n",
    "config = CrawlerRunConfig(\n",
    "    # e.g., first 30 items from Hacker News\n",
    "    css_selector=\"#sub-question-2\",\n",
    "    markdown_generator=DefaultMarkdownGenerator()\n",
    ")\n",
    "async with AsyncWebCrawler() as crawler:\n",
    "    result = await crawler.arun(\n",
    "        url=\"https://loigiaihay.com/de-thi-vao-lop-6-mon-toan-truong-cau-giay-nam-2023-a142098.html\", \n",
    "        config=config\n",
    "    )"
   ]
  },
  {
   "cell_type": "code",
   "execution_count": 28,
   "id": "9da29f59",
   "metadata": {},
   "outputs": [
    {
     "data": {
      "text/markdown": [
       "**Đáp án**\n",
       "**HƯỚNG DẪN GIẢI CHI TIẾT**\n",
       "**Phần 1: Trắc nghiệm**\n",
       "**Câu 1.** Tìm x125<¯x,2<134\n",
       "A. 5 \n",
       "B. 2 \n",
       "C. 3 \n",
       "D. 4\n",
       "**Cách giải**\n",
       "Ta có 125<¯x,2<134¯x,2\n",
       "Do đó 2<x⩽3x=3\n",
       "Chọn **C**\n",
       "**Câu 2.** An đi học lúc 6 giờ 45 phút, xe bus di chuyển hết 10 phút, thời gian chờ xe bus là 0,5 giờ. Hỏi An đến trường lúc mấy giờ?\n",
       "A. 7 giờ 25 phút \n",
       "B. 8 giờ 25 phút\n",
       "C. 7 giờ 15 phút \n",
       "D. 7 giờ 35 phút\n",
       "**Cách giải**\n",
       "Đổi 0,5 giờ = 30 phút\n",
       "An đến trường lúc: 6 giờ 45 phút + 10 phút + 30 phút = 7 giờ 25 phút\n",
       "Chọn **A**\n",
       "**Câu 3.** Tổ gồm 10 công nhân hoàn thành xong một công việc trong 30 ngày. Nếu tổ có 20 công nhân thì hoàn thành công việc trong thời gian bao lâu?\n",
       "A. 10 ngày \n",
       "B. 60 ngày \n",
       "C. 40 ngày \n",
       "D. 15 ngày\n",
       "**Cách giải**\n",
       "1 công nhân hoàn thành công việc trong thời gian là 30 x 10 = 300 (ngày)\n",
       "20 công nhân hoàn thành công việc trong thời gian là 300 : 20 = 15 (ngày)\n",
       "Chọn **D**\n",
       "**Câu 4.** Phòng học có dạng hình hộp chữ nhật chiều dài 7m, chiều rộng 4,5m, chiều cao 3m. Người ta muốn sơn toàn bộ trần nhà và 4 bức tường. Biết tổng diện tích các cửa là 7,5m2, tính diện tích cần sơn.\n",
       "A. 83m2 \n",
       "B. 108 m2 \n",
       "C. 93 m2\n",
       "D. 98 m2\n",
       "**Cách giải**\n",
       "Diện tích xung quanh của phòng học là (7 + 4,5) x 2 x 3 = 69 (m2)\n",
       "Diện tích trần nhà là: 7 x 4,5 = 31,5 (m2)\n",
       "Diện tích cần sơn là 69 + 31,5 – 7,5 = 93 (m2)\n",
       "Chọn **C**\n",
       "**Phần 2: Điền đáp số**\n",
       "**Câu 5.** Cho A = ¯52xy\n",
       "**Cách giải**\n",
       "Vì A chia hết cho 2 và chia 5 dư 4 nên y = 4\n",
       "Ta có số A = ¯52x4\n",
       "Vì A chia hết cho 9 nên 5 + 2 + x + 4 chia hết cho 9. Suy ra x = 7\n",
       "Vậy A = 5274\n",
       "**Câu 6.** Tổng số gạo kho I và kho II là 46 tấn. Biết 15 lần số gạo kho I bằng 8 lần số gạo kho II. Hỏi kho II chứa bao nhiêu tấn gạo?\n",
       "**Cách giải**\n",
       "Vì 15 lần số gạo kho I815\n",
       "Kho II chứa số tấn gạo là:\n",
       "46 : (8 + 15) x 15 = 30 (tấn gạo)\n",
       "Đáp số: 30 tấn gạo\n",
       "**Câu 7.** Tính tỉ số phần trăm số học sinh thích ăn cam và chuối so với số học sinh thích ăn táo và xoài?\n",
       "![](https://img.loigiaihay.com/picture/2023/0728/20_15.png)\n",
       "**Cách giải**\n",
       "Số học sinh thích ăn cam và chuối là: 4 + 3 = 7 (học sinh)\n",
       "Số học sinh thích ăn táo và xoài là: 15 + 10 = 25 (học sinh)\n",
       "Tỉ số phần trăm số học sinh thích ăn cam và chuối so với số học sinh thích ăn táo và xoài là:\n",
       "7 : 25 = 0,28 = 28%\n",
       "Đáp số: 28%\n",
       "**Câu 8.** Cho hình vuông ABCD. Vẽ nửa đường tròn đường kính AB và 14\n",
       "![](https://img.loigiaihay.com/picture/2023/0728/20_17.png)\n",
       "**Cách giải**\n",
       "Độ dài đoạn thẳng AB là 37,68 : 3,14 = 12 (cm)\n",
       "Bán kính đường tròn đường kính AB là 12 : 2 = 6 (cm)\n",
       "Diện tích nửa đường tròn đường kính AB là 6 x 6 x 3,14 : 2 = 56,52 (cm2)\n",
       "Diện tích 142)\n",
       "Diện tích phần tô đậm là 113,04 – 56,52 = 56,52 (cm2)\n",
       "Đáp số: 56,52 cm2\n",
       "**Phần 3: Tự luận**\n",
       "**Bài 1.** Cho đoạn đường AD có 1 đoạn lên dốc, 1 đoạn xuống dốc, 1 đoạn bằng phẳng. Trong đó, đoạn đường AB = BC, CD = 4km (AB là đoạn đường lên dốc, BC là đoạn đường xuống dốc, CD là đoạn đường bằng phẳng). Biết vận tốc khi lên dốc là 4 km/giờ, vận tốc khi xuống dốc là là 6 km/giờ, vận tốc đi trên đoạn đường bằng phẳng là 5 km/giờ.\n",
       "a) Tính thời gian đi đoạn đường CD.\n",
       "b) Tính độ dài đoạn đường AD, biết người đó đi từ A lúc 5 giờ và đến D lúc 6 giờ 48 phút.\n",
       "**Cách giải**\n",
       "a) Thời gian đi đoạn đường CD là 4:5=45\n",
       "b) Thời gian đi hết đoạn đường AC là 6 giờ 48 – 5 – 48 phút = 1 (giờ)\n",
       "Tỉ số vận tốc trên đoạn đường AB so với đoạn đường BC 4:6=23\n",
       "Trên cùng một quãng đường thì vận tốc tỉ lệ nghịch với thời gian.\n",
       "Vì đoạn đường AB = BC nên tỉ số thời gian đi hết đoạn đường AB so với đoạn đường BC là 32\n",
       "Thời gian đi hết đoạn đường AB là 1 : (2 + 3) x 3 = 0,6 (giờ)\n",
       "Độ dài đoạn đường AB là 0,6 x 4 = 2,4 (km)\n",
       "Độ dài đoạn đường AD là 2,4 x 2 + 4 = 8,8 (km)\n",
       "Đáp số: a) 48 phút\n",
       "b) 8,8 km\n",
       "**Bài 2**. Bạn Hưng viết 5 số tự nhiên khác nhau trên một vòng tròn sao cho không có 2 hoặc 3 số nào ở vị trí liên tiếp nhau có tổng chia hết cho 3.\n",
       "![](https://img.loigiaihay.com/picture/2023/0728/19_3.png)\n",
       "a) Hãy tìm một bộ 5 số tự nhiên thỏa mãn yêu cầu đề bài và điền vào hình.\n",
       "b) Chứng tỏ trong mỗi bộ 5 số thỏa mãn yêu cầu đề bài có ít nhất 1 số chia hết cho 3.\n",
       "**Cách giải:**\n",
       "a) Bộ 5 số thỏa mãn yêu cầu như hình vẽ:\n",
       "![](https://img.loigiaihay.com/picture/2023/0620/19_1.png)\n",
       "b) Giả sử cả 5 số đều không chia hết cho 3, khi đó các số này chia 3 dư 1 hoặc chia 3 dư 2.\n",
       "- Xét số a chia 3 dư 1. Khi đó để tổng hai số liên tiếp (có chứa số a) không chia hết cho 3 thì hai số đứng cạnh a phải chia 3 dư 1. Do đó, ta có 3 số liên tiếp cùng chia 3 dư 1, tức là tổng 3 số này chia hết cho 3 (vô lí)\n",
       "- Lập luận tương tự với số chia 3 dư 2, ta thấy vô lí.\n",
       "Vậy trong 5 số luôn có ít nhất 1 số phải chia hết cho 3.\n"
      ],
      "text/plain": [
       "<IPython.core.display.Markdown object>"
      ]
     },
     "metadata": {},
     "output_type": "display_data"
    }
   ],
   "source": [
    "printmd(result.markdown.raw_markdown)"
   ]
  },
  {
   "cell_type": "code",
   "execution_count": 31,
   "id": "b8156393",
   "metadata": {},
   "outputs": [
    {
     "data": {
      "text/markdown": [
       "**Đáp án**\n",
       "**HƯỚNG DẪN GIẢI CHI TIẾT**\n",
       "**Phần 1: Trắc nghiệm**\n",
       "**Câu 1.** Tìm x125<¯x,2<134\n",
       "A. 5 \n",
       "B. 2 \n",
       "C. 3 \n",
       "D. 4\n",
       "**Cách giải**\n",
       "Ta có 125<¯x,2<134¯x,2\n",
       "Do đó 2<x⩽3x=3\n",
       "Chọn **C**\n",
       "**Câu 2.** An đi học lúc 6 giờ 45 phút, xe bus di chuyển hết 10 phút, thời gian chờ xe bus là 0,5 giờ. Hỏi An đến trường lúc mấy giờ?\n",
       "A. 7 giờ 25 phút \n",
       "B. 8 giờ 25 phút\n",
       "C. 7 giờ 15 phút \n",
       "D. 7 giờ 35 phút\n",
       "**Cách giải**\n",
       "Đổi 0,5 giờ = 30 phút\n",
       "An đến trường lúc: 6 giờ 45 phút + 10 phút + 30 phút = 7 giờ 25 phút\n",
       "Chọn **A**\n",
       "**Câu 3.** Tổ gồm 10 công nhân hoàn thành xong một công việc trong 30 ngày. Nếu tổ có 20 công nhân thì hoàn thành công việc trong thời gian bao lâu?\n",
       "A. 10 ngày \n",
       "B. 60 ngày \n",
       "C. 40 ngày \n",
       "D. 15 ngày\n",
       "**Cách giải**\n",
       "1 công nhân hoàn thành công việc trong thời gian là 30 x 10 = 300 (ngày)\n",
       "20 công nhân hoàn thành công việc trong thời gian là 300 : 20 = 15 (ngày)\n",
       "Chọn **D**\n",
       "**Câu 4.** Phòng học có dạng hình hộp chữ nhật chiều dài 7m, chiều rộng 4,5m, chiều cao 3m. Người ta muốn sơn toàn bộ trần nhà và 4 bức tường. Biết tổng diện tích các cửa là 7,5m2, tính diện tích cần sơn.\n",
       "A. 83m2 \n",
       "B. 108 m2 \n",
       "C. 93 m2\n",
       "D. 98 m2\n",
       "**Cách giải**\n",
       "Diện tích xung quanh của phòng học là (7 + 4,5) x 2 x 3 = 69 (m2)\n",
       "Diện tích trần nhà là: 7 x 4,5 = 31,5 (m2)\n",
       "Diện tích cần sơn là 69 + 31,5 – 7,5 = 93 (m2)\n",
       "Chọn **C**\n",
       "**Phần 2: Điền đáp số**\n",
       "**Câu 5.** Cho A = ¯52xy\n",
       "**Cách giải**\n",
       "Vì A chia hết cho 2 và chia 5 dư 4 nên y = 4\n",
       "Ta có số A = ¯52x4\n",
       "Vì A chia hết cho 9 nên 5 + 2 + x + 4 chia hết cho 9. Suy ra x = 7\n",
       "Vậy A = 5274\n",
       "**Câu 6.** Tổng số gạo kho I và kho II là 46 tấn. Biết 15 lần số gạo kho I bằng 8 lần số gạo kho II. Hỏi kho II chứa bao nhiêu tấn gạo?\n",
       "**Cách giải**\n",
       "Vì 15 lần số gạo kho I815\n",
       "Kho II chứa số tấn gạo là:\n",
       "46 : (8 + 15) x 15 = 30 (tấn gạo)\n",
       "Đáp số: 30 tấn gạo\n",
       "**Câu 7.** Tính tỉ số phần trăm số học sinh thích ăn cam và chuối so với số học sinh thích ăn táo và xoài?\n",
       "![](https://img.loigiaihay.com/picture/2023/0728/20_15.png)\n",
       "**Cách giải**\n",
       "Số học sinh thích ăn cam và chuối là: 4 + 3 = 7 (học sinh)\n",
       "Số học sinh thích ăn táo và xoài là: 15 + 10 = 25 (học sinh)\n",
       "Tỉ số phần trăm số học sinh thích ăn cam và chuối so với số học sinh thích ăn táo và xoài là:\n",
       "7 : 25 = 0,28 = 28%\n",
       "Đáp số: 28%\n",
       "**Câu 8.** Cho hình vuông ABCD. Vẽ nửa đường tròn đường kính AB và 14\n",
       "![](https://img.loigiaihay.com/picture/2023/0728/20_17.png)\n",
       "**Cách giải**\n",
       "Độ dài đoạn thẳng AB là 37,68 : 3,14 = 12 (cm)\n",
       "Bán kính đường tròn đường kính AB là 12 : 2 = 6 (cm)\n",
       "Diện tích nửa đường tròn đường kính AB là 6 x 6 x 3,14 : 2 = 56,52 (cm2)\n",
       "Diện tích 142)\n",
       "Diện tích phần tô đậm là 113,04 – 56,52 = 56,52 (cm2)\n",
       "Đáp số: 56,52 cm2\n",
       "**Phần 3: Tự luận**\n",
       "**Bài 1.** Cho đoạn đường AD có 1 đoạn lên dốc, 1 đoạn xuống dốc, 1 đoạn bằng phẳng. Trong đó, đoạn đường AB = BC, CD = 4km (AB là đoạn đường lên dốc, BC là đoạn đường xuống dốc, CD là đoạn đường bằng phẳng). Biết vận tốc khi lên dốc là 4 km/giờ, vận tốc khi xuống dốc là là 6 km/giờ, vận tốc đi trên đoạn đường bằng phẳng là 5 km/giờ.\n",
       "a) Tính thời gian đi đoạn đường CD.\n",
       "b) Tính độ dài đoạn đường AD, biết người đó đi từ A lúc 5 giờ và đến D lúc 6 giờ 48 phút.\n",
       "**Cách giải**\n",
       "a) Thời gian đi đoạn đường CD là 4:5=45\n",
       "b) Thời gian đi hết đoạn đường AC là 6 giờ 48 – 5 – 48 phút = 1 (giờ)\n",
       "Tỉ số vận tốc trên đoạn đường AB so với đoạn đường BC 4:6=23\n",
       "Trên cùng một quãng đường thì vận tốc tỉ lệ nghịch với thời gian.\n",
       "Vì đoạn đường AB = BC nên tỉ số thời gian đi hết đoạn đường AB so với đoạn đường BC là 32\n",
       "Thời gian đi hết đoạn đường AB là 1 : (2 + 3) x 3 = 0,6 (giờ)\n",
       "Độ dài đoạn đường AB là 0,6 x 4 = 2,4 (km)\n",
       "Độ dài đoạn đường AD là 2,4 x 2 + 4 = 8,8 (km)\n",
       "Đáp số: a) 48 phút\n",
       "b) 8,8 km\n",
       "**Bài 2**. Bạn Hưng viết 5 số tự nhiên khác nhau trên một vòng tròn sao cho không có 2 hoặc 3 số nào ở vị trí liên tiếp nhau có tổng chia hết cho 3.\n",
       "![](https://img.loigiaihay.com/picture/2023/0728/19_3.png)\n",
       "a) Hãy tìm một bộ 5 số tự nhiên thỏa mãn yêu cầu đề bài và điền vào hình.\n",
       "b) Chứng tỏ trong mỗi bộ 5 số thỏa mãn yêu cầu đề bài có ít nhất 1 số chia hết cho 3.\n",
       "**Cách giải:**\n",
       "a) Bộ 5 số thỏa mãn yêu cầu như hình vẽ:\n",
       "![](https://img.loigiaihay.com/picture/2023/0620/19_1.png)\n",
       "b) Giả sử cả 5 số đều không chia hết cho 3, khi đó các số này chia 3 dư 1 hoặc chia 3 dư 2.\n",
       "- Xét số a chia 3 dư 1. Khi đó để tổng hai số liên tiếp (có chứa số a) không chia hết cho 3 thì hai số đứng cạnh a phải chia 3 dư 1. Do đó, ta có 3 số liên tiếp cùng chia 3 dư 1, tức là tổng 3 số này chia hết cho 3 (vô lí)\n",
       "- Lập luận tương tự với số chia 3 dư 2, ta thấy vô lí.\n",
       "Vậy trong 5 số luôn có ít nhất 1 số phải chia hết cho 3.\n"
      ],
      "text/plain": [
       "<IPython.core.display.Markdown object>"
      ]
     },
     "metadata": {},
     "output_type": "display_data"
    }
   ],
   "source": [
    "printmd(result.markdown)"
   ]
  },
  {
   "cell_type": "code",
   "execution_count": null,
   "id": "ed987eb6",
   "metadata": {},
   "outputs": [],
   "source": []
  }
 ],
 "metadata": {
  "kernelspec": {
   "display_name": "mathpal-ts7EbEcm-py3.11",
   "language": "python",
   "name": "python3"
  },
  "language_info": {
   "codemirror_mode": {
    "name": "ipython",
    "version": 3
   },
   "file_extension": ".py",
   "mimetype": "text/x-python",
   "name": "python",
   "nbconvert_exporter": "python",
   "pygments_lexer": "ipython3",
   "version": "3.11.8"
  }
 },
 "nbformat": 4,
 "nbformat_minor": 5
}
