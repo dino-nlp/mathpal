{
 "cells": [
  {
   "cell_type": "code",
   "execution_count": 10,
   "id": "e6f879f2",
   "metadata": {},
   "outputs": [],
   "source": [
    "import sys\n",
    "import os\n",
    "\n",
    "# Thêm thư mục src vào sys.path (đường dẫn tuyệt đối từ notebook)\n",
    "sys.path.append(os.path.abspath('../src'))\n",
    "\n",
    "from core.db.qdrant import QdrantDatabaseConnector\n",
    "from core.config import settings\n",
    "from qdrant_client.http.exceptions import UnexpectedResponse\n",
    "import traceback"
   ]
  },
  {
   "cell_type": "code",
   "execution_count": 11,
   "id": "bb452e3d",
   "metadata": {},
   "outputs": [
    {
     "name": "stdout",
     "output_type": "stream",
     "text": [
      "HTTP Request: GET http://localhost:6333 \"HTTP/1.1 200 OK\"\n"
     ]
    }
   ],
   "source": [
    "# Nếu chạy từ notebook (ngoài container)\n",
    "settings.patch_localhost()\n",
    "# Kết nối Qdrant\n",
    "qdrant = QdrantDatabaseConnector()"
   ]
  },
  {
   "cell_type": "code",
   "execution_count": 12,
   "id": "42f959d7",
   "metadata": {},
   "outputs": [
    {
     "name": "stdout",
     "output_type": "stream",
     "text": [
      "HTTP Request: POST http://localhost:6333/collections/cleaned_exams/points/scroll \"HTTP/1.1 200 OK\"\n"
     ]
    }
   ],
   "source": [
    "# Đọc dữ liệu từ cleaned_exams\n",
    "result = qdrant.scroll(\"cleaned_exams\", limit=10)\n",
    "points = result[0]  # List các points"
   ]
  },
  {
   "cell_type": "code",
   "execution_count": 13,
   "id": "ec9ac07a",
   "metadata": {},
   "outputs": [
    {
     "data": {
      "text/plain": [
       "[Record(id='9f43a64b-676c-4268-b8a8-fccd7c2b358b', payload={'type': 'exam', 'link': 'https://loigiaihay.com/de-thi-vao-lop-6-mon-toan-truong-nguyen-tat-thanh-nam-2025-co-dap-an-a185630.html', 'cleaned_content': '**Đáp án**\\n**HƯỚNG DẪN GIẢI CHI TIẾT**\\n**I. TRẮC NGHIỆM**\\n**Câu 1****(0,5 điểm)****.** Cho biểu đồ như hình dưới đây. Tìm tỉ số phần trăm số học sinh khối 9 so với số học sinh toàn trường.\\n![](https://img.loigiaihay.com/picture/2025/0602/20_1.png)\\n**A.** 22,5% **B.** 12,5% **C.** 32% **D.** 25%\\n**Cách giải:**\\nSố học sinh khối 6 được biểu diễn là 14\\nTỉ số phần trăm học sinh khối 9 là: 100% - (12,5% + 40% + 25%) = 22,5%\\n**Đáp số: 22,5%**\\n**Câu 2****(0,5 điểm)****.** Gieo 1 viên xúc sắc 20 lần liên tiếp kết quả nhận được như bảng sau:\\n![](https://img.loigiaihay.com/picture/2025/0602/20_1.PNG)\\nTỉ số giữa số lần xuất hiện mặt có số chấm là số lẻ và tổng số lần đã gieo là bao nhiêu?\\n**A.** 920**B.** 1120**C.** 320**D.** 120\\n**Cách giải:**\\nSố lần xuất hiện mặt có chấm là số lẻ là: 5 + 3 + 1 = 9 (lần)\\nTỉ số giữa số lần xuất hiện mặt số chấm là số lẻ và tổng số lần đã gieo là: 9:20=920\\n**Đáp số:** 920\\n**Câu 3 (0,5 điểm).** Tìm số tự nhiên thích hợp điền vào chỗ trống là: 526<....26<625\\n**A.** 3 **B.** 4 **C.** 5 **D.** 6\\n**Cách giải:**\\nSố tự nhiên cần điền là: 6\\n**Đáp án: 6**\\n**Câu 4****(0,5 điểm)****.** Tính kết quả của phép tính:\\n20,26 x 42,6 + 20,26 x 57,4\\n**A.** 20,26 **B.** 202,6 **C.** 2026 **D.** 2025\\n**Cách giải:**\\n20,26 x 42,6 + 20,26 x 57,4\\n= 20,26 x (42,6 + 57,4)\\n= 20,26 x 100\\n= 2026\\n**Đáp án: 2026**\\n**Câu 5****(0,5 điểm)****.** Nhà bác An có một mảnh đất. Bác An dùng 35\\nPhần còn lại có diện tích là 60m2. Tính diện tích mảnh đất.\\n**A.** 36m² **B.** 100 m² **C.** 24 m² **D.** 150 m²\\n**Cách giải:**\\nCoi diện tích mảnh đất là 1 đơn vị.\\nPhân số chỉ 60 m2 là: 1−35=25\\nDiện tích mảnh đất là: 60 : 2 x 5 = 150 (m2)\\n**Đáp****án****: 150 m****2**\\n**Câu 6****(0,5 điểm)** Một miếng bìa hình chữ nhật có chiều dài là 25cm và chiều rộng là 20cm. Người ta cắt 4 góc miếng bìa hình vuông có cạnh là 5cm và gấp thành hình hộp chữ nhật (như hình dưới). Tính thể tích hình hộp chữ nhật đó.\\n![](https://img.loigiaihay.com/picture/2025/0602/21_1.png)\\n**A.** 200cm³ **B.** 1500cm³ **C.** 750cm³ **D.** 600cm³\\n**Cách giải:**\\nChiều rộng của hình hộp chữ nhật là: 20 – (5 + 5) = 10 (cm)\\nChiều dài của hình hộp chữ nhật là: 25 – (5 + 5) = 15 (cm)\\nChiều cao của hình hộp chữ nhật là 5cm.\\nThể tích của hình đó là: 15 x 10 x 5 = 750 (cm3)\\n**Đáp****án****: 750cm**\\n**Câu 7****(0,5 điểm)****.** Cho nửa hình tròn có đường kính 40cm, người thợ mộc cắt 2 nửa hình tròn có đường kính bằng bán kính của hình tròn trước. Tính diện tích của hình tròn mới bị cắt.\\n![](https://img.loigiaihay.com/picture/2025/0602/22_1.png)\\n**A.** 314 cm² **B.** 628 cm² **C.** 942 cm² **D.** 154 cm²\\n**Cách giải:**\\nĐường kính hình tròn mới là: 40 : 2 = 20 (cm)\\nBán kính hình tròn mới là: 20 : 2 = 10 (cm)\\nDiện tích hình tròn mới bị cắt là: 10 x 10 x 3,14 = 314 (cm2)\\n**Đáp****án****: 314 cm****2**\\n**Câu 8. (0,5 điểm)**. Có bao nhiêu số có 2 chữ số mà chữ số hàng chục lớn hơn chữ số hàng đơn\\nvị là 4.\\n**A.** 3 **B.** 4 **C.** 5 **D.** 6\\n**Cách giải:**\\nCác số thỏa mãn là: 40; 51; 62; 73; 84; 95. Vậy có 6 số thỏa mãn yêu cầu bài toán.\\n**Đáp****án****: 6 số**\\n**II. Viết đáp số vào ô****trả lời tương ứng với mỗi câu hỏi**\\n**Câu****9****.** (0,75 điểm) Một chiếc áo có giá 500 000 đồng. Vì không ai mua nên giảm giá 20% so với giá ban đầu. Nhưng vẫn không ai mua nên giảm giá tiếp 40% so với giá giảm lần đầu. Hỏi giá chiếc áo sau 2 lần giảm là bao nhiêu?\\n**Cách giải:**\\nGiá chiếc áo sau khi giảm lần đầu là: 500 000 – 500 000 × 20 : 100 = 400 000 (đồng)\\nGiá chiếc áo sau khi giảm lần hai là: 400 000 – 400 000 × 40 : 100 = 240 000 (đồng)\\n**Đáp số: 240 000 đồng**\\n**Câu****10****.** (0,75 điểm) Trên quãng đường AB dài 200km có hai người đi ngược chiều nhau. Lúc 7 giờ 30 phút có 1 xe tải đi từ A đến B với vận tốc 40km/giờ. Sau 30 phút có 1 xe khách đi từ B đến A với vận tốc 60km/giờ. Hỏi lúc 9 giờ cùng ngày hai xe cách nhau bao nhiêu ki-lô-mét?\\n**Cách giải:**\\nĐổi: 30 phút = 0,5 giờ\\nLúc 9 giờ xe tải đi được số giờ là: 9 giờ - 7 giờ 30 phút = 1 giờ 30 phút = 1,5 giờ\\nLúc 9 giờ quãng đường xe tải đã đi được là: 40 x 1,5 = 60 (km)\\nLúc 9 giờ xe khách đi được số giờ là: 9 giờ - 7 giờ 30 phút – 30 phút = 1 (giờ)\\nLúc 9 giờ quãng đường xe khách đã đi được là: 60 x 1 = 60 (km)\\nLúc 9 giờ hai xe cách nhau là: 200 – 60 – 60 = 80 (km)\\n**Đáp số: 80km**\\n**Câu****11**(0,75 điểm)**.** Tổng số học sinh lớp 5A là 45 học sinh. Biết số học sinh nam bằng 45\\n**Cách giải:**\\nSố học sinh nữ là: 45 : (4 + 5) x 5 = 25 (học sinh)\\n**Đáp số: 25 học sinh**\\n**Câu 12.** (0,75 điểm) Có 15 hình lập phương nhỏ có cạnh 1cm. Người ta xếp 15 hình lập phương này thành một hình lập phương lớn. Hỏi diện tích toàn phần lớn nhất của hình hộp chữ nhật là bao nhiêu?\\n**Cách giải:**\\nTa có: 15 = 1 x 1 x 15 =1 x 3 x 5\\nKích thước của hình hộp chữ nhật sau khi xếp có thể là:\\n1cm x 1cm x 15cm hoặc 1cm x 3cm x 5cm.\\nTrường hợp kích thước 1cm x 1cm x 15cm thì diện tích toàn phần là:\\n(1 + 15) x 2 x 1 + 1 x 15 x 2 = 62 (cm²)\\nTrường hợp kích thước 1cm x 3cm x 5cm diện tích toàn phần là:\\n(1 + 5) x 2 x 3 + 1 x 5 x 2 = 46 (cm2)\\nVậy diện tích toàn phần lớn nhất là 62cm2\\n**Đáp số: 62cm 2**\\n**III. TỰ LUẬN**\\n**Câu 13** (1 điểm). Để lập ra quỹ ủng hộ, lớp 6A và 6B bán đồ handmade, số tiền mà lớp 6B nhận được nhiều hơn số tiền lớp 6A nhận được là 2 triệu đồng. Trung bình cộng số tiền hai lớp thu được là 5 triệu đồng. Hỏi mỗi lớp nhận được bao nhiêu tiền?\\n**Cách giải**\\nTổng số tiền lớp 6A và 6B là:\\n5 x 2 = 10 (triệu đồng)\\nSố tiền lớp 6B nhận được là:\\n(10 + 2) : 2 = 6 (triệu đồng)\\nSố tiền lớp 6A nhận được là:\\n10 – 6 = 4 (triệu đồng)\\nĐáp số: 6A: 4 triệu đồng\\n6B: 6 triệu đồng\\n**Câu 14**(1 điểm)**.** Cho quãng đường AB có độ dài là 180km. Vận tốc xe máy là 45km/giờ, xe ô tô là 60km/giờ. Hỏi sau bao lâu thì quãng đường còn lại của xe máy gấp đôi ô tô biết 2 xe đi cùng chiều.\\n**Cách giải**\\n![](https://img.loigiaihay.com/picture/2025/0602/23.PNG)\\nGọi quãng đường đã đi của ô tô là AC. Quãng đường còn lại là CB.\\nQuãng đường đã đi của xe máy là AD. Quãng đường còn lại là DB.\\nTa có CB = 1212\\nTỉ số vận tốc xe máy và ô tô là : 45 : 60 = 34\\nCùng thời gian thì vận tốc và quãng đường tỉ lệ thuận với nhau, suy ra:\\nTỉ lệ quãng đường đã đi của xe máy và ô tô là 34ADAC=34\\nCoi AC là 4 phần, AD là 3 phần. DC là 1 phần, CB là 1 phần. Suy ra AB là 5 phần.\\nQuãng đường đã đi của ô tô là: 180 : 5 x 4 = 144 (km)\\nThời gian đã đi của 2 xe là: 144 : 60 = 2,4 (giờ)\\nĐáp số: 2,4 giờ\\n**Câu 15** (1 điểm). Cho tam giác ABC. Trên AB lấy điểm D sao cho AD = 2 BD. Trên BC lấy điểm\\nE sao cho BE = 2 CE. Đoạn thẳng AD, CE cắt nhau tại F. Biết diện tích tam giác ACF là 20 cm2.\\nTính diện tích tam giác ABC.\\n**Cách giải:**\\n![](https://img.loigiaihay.com/picture/2025/0602/24.png)\\nNối B với F\\nHai tam giác ADC và tam giác CBD có chung chiều cao hạ từ C và AD = 2 x BD\\nSuy ra: SADC = 2 x SCBD\\nHai tam giác AFD và BFD có chung chiều cao F và AD = 2 x BD\\nSuy ra: SAFD = 2 x SBFD\\nTừ đó suy ra: SADC - SAFD = 2 x (SCBD - SBFD)\\nhay SAFC = 2 x SBFC\\nSBFC = 20 : 2 x 1 = 10 (cm2)\\nLàm tương tự ta được: SAFC = 12AFB\\nSAFB = 20 x 2 = 40 (cm2)\\nSABC = SBFC + SAFB + SAFC = 10 + 40 + 20 = 70 (cm2)\\nĐáp số: 70 cm2\\n**  \\n**', 'grade_id': 'e1403d26-0fc4-4cab-b66d-34c2393abadf'}, vector=None, shard_key=None, order_value=None),\n",
       " Record(id='c28ee07a-27d7-47f5-bae8-380c5dcaf7a2', payload={'type': 'exam', 'link': 'https://loigiaihay.com/de-thi-vao-lop-6-mon-toan-truong-cau-giay-nam-2023-a142098.html', 'cleaned_content': '**Đáp án**\\n**HƯỚNG DẪN GIẢI CHI TIẾT**\\n**Phần 1: Trắc nghiệm**\\n**Câu 1.** Tìm $x$ sao cho $\\\\frac{{12}}{5} < \\\\overline {x,2} < \\\\frac{{13}}{4}$\\nA. 5 \\nB. 2 \\nC. 3 \\nD. 4\\n**Cách giải**\\nTa có $\\\\frac{{12}}{5} < \\\\overline {x,2} < \\\\frac{{13}}{4}$ nên 2,4 < $\\\\overline {x,2} $ < 3,25\\nDo đó $2 < x \\\\leqslant 3$. Suy ra $x = 3$\\nChọn **C**\\n**Câu 2.** An đi học lúc 6 giờ 45 phút, xe bus di chuyển hết 10 phút, thời gian chờ xe bus là 0,5 giờ. Hỏi An đến trường lúc mấy giờ?\\nA. 7 giờ 25 phút \\nB. 8 giờ 25 phút\\nC. 7 giờ 15 phút \\nD. 7 giờ 35 phút\\n**Cách giải**\\nĐổi 0,5 giờ = 30 phút\\nAn đến trường lúc: 6 giờ 45 phút + 10 phút + 30 phút = 7 giờ 25 phút\\nChọn **A**\\n**Câu 3.** Tổ gồm 10 công nhân hoàn thành xong một công việc trong 30 ngày. Nếu tổ có 20 công nhân thì hoàn thành công việc trong thời gian bao lâu?\\nA. 10 ngày \\nB. 60 ngày \\nC. 40 ngày \\nD. 15 ngày\\n**Cách giải**\\n1 công nhân hoàn thành công việc trong thời gian là 30 x 10 = 300 (ngày)\\n20 công nhân hoàn thành công việc trong thời gian là 300 : 20 = 15 (ngày)\\nChọn **D**\\n**Câu 4.** Phòng học có dạng hình hộp chữ nhật chiều dài 7m, chiều rộng 4,5m, chiều cao 3m. Người ta muốn sơn toàn bộ trần nhà và 4 bức tường. Biết tổng diện tích các cửa là 7,5m2, tính diện tích cần sơn.\\nA. 83m2 \\nB. 108 m2 \\nC. 93 m2\\nD. 98 m2\\n**Cách giải**\\nDiện tích xung quanh của phòng học là (7 + 4,5) x 2 x 3 = 69 (m2)\\nDiện tích trần nhà là: 7 x 4,5 = 31,5 (m2)\\nDiện tích cần sơn là 69 + 31,5 – 7,5 = 93 (m2)\\nChọn **C**\\n**Phần 2: Điền đáp số**\\n**Câu 5.** Cho A = $\\\\overline {52xy} $. Biết A chia hết cho 2 và 9; chia 5 dư 4. Tìm A.\\n**Cách giải**\\nVì A chia hết cho 2 và chia 5 dư 4 nên y = 4\\nTa có số A = $\\\\overline {52x4} $\\nVì A chia hết cho 9 nên 5 + 2 + x + 4 chia hết cho 9. Suy ra x = 7\\nVậy A = 5274\\n**Câu 6.** Tổng số gạo kho I và kho II là 46 tấn. Biết 15 lần số gạo kho I bằng 8 lần số gạo kho II. Hỏi kho II chứa bao nhiêu tấn gạo?\\n**Cách giải**\\nVì 15 lần số gạo kho I\\nKho II chứa số tấn gạo là:\\n46 : (8 + 15) x 15 = 30 (tấn gạo)\\nĐáp số: 30 tấn gạo\\n**Câu 7.** Tính tỉ số phần trăm số học sinh thích ăn cam và chuối so với số học sinh thích ăn táo và xoài?\\n![](https://img.loigiaihay.com/picture/2023/0728/20_15.png)\\n**Cách giải**\\nSố học sinh thích ăn cam và chuối là: 4 + 3 = 7 (học sinh)\\nSố học sinh thích ăn táo và xoài là: 15 + 10 = 25 (học sinh)\\nTỉ số phần trăm số học sinh thích ăn cam và chuối so với số học sinh thích ăn táo và xoài là:\\n7 : 25 = 0,28 = 28%\\nĐáp số: 28%\\n**Câu 8.** Cho hình vuông ABCD. Vẽ nửa đường tròn đường kính AB và $\\\\frac{1}{4}$ đường tròn bán kính AB. Tính diện tích phần tô đậm biết chu vi đường tròn đường kính AB là 37,68 cm.\\n![](https://img.loigiaihay.com/picture/2023/0728/20_17.png)\\n**Cách giải**\\nĐộ dài đoạn thẳng AB là 37,68 : 3,14 = 12 (cm)\\nBán kính đường tròn đường kính AB là 12 : 2 = 6 (cm)\\nDiện tích nửa đường tròn đường kính AB là 6 x 6 x 3,14 : 2 = 56,52 (cm2)\\nDiện tích $\\\\frac{1}{4}$ đường tròn bán kính AB là 12 x 12 x 3,14 : 4 = 113,04 (cm2)\\nDiện tích phần tô đậm là 113,04 – 56,52 = 56,52 (cm2)\\nĐáp số: 56,52 cm2\\n**Phần 3: Tự luận**\\n**Bài 1.** Cho đoạn đường AD có 1 đoạn lên dốc, 1 đoạn xuống dốc, 1 đoạn bằng phẳng. Trong đó, đoạn đường AB = BC, CD = 4km (AB là đoạn đường lên dốc, BC là đoạn đường xuống dốc, CD là đoạn đường bằng phẳng). Biết vận tốc khi lên dốc là 4 km/giờ, vận tốc khi xuống dốc là là 6 km/giờ, vận tốc đi trên đoạn đường bằng phẳng là 5 km/giờ.\\na) Tính thời gian đi đoạn đường CD.\\nb) Tính độ dài đoạn đường AD, biết người đó đi từ A lúc 5 giờ và đến D lúc 6 giờ 48 phút.\\n**Cách giải**\\na) Thời gian đi đoạn đường CD là $4:5 = \\\\frac{4}{5}$ (giờ) = 48 (phút)\\nb) Thời gian đi hết đoạn đường AC là 6 giờ 48 – 5 – 48 phút = 1 (giờ)\\nTỉ số vận tốc trên đoạn đường AB so với đoạn đường BC $4:6 = \\\\frac{2}{3}$\\nTrên cùng một quãng đường thì vận tốc tỉ lệ nghịch với thời gian.\\nVì đoạn đường AB = BC nên tỉ số thời gian đi hết đoạn đường AB so với đoạn đường BC là $\\\\frac{3}{2}$\\nThời gian đi hết đoạn đường AB là 1 : (2 + 3) x 3 = 0,6 (giờ)\\nĐộ dài đoạn đường AB là 0,6 x 4 = 2,4 (km)\\nĐộ dài đoạn đường AD là 2,4 x 2 + 4 = 8,8 (km)\\nĐáp số: a) 48 phút\\nb) 8,8 km\\n**Bài 2**. Bạn Hưng viết 5 số tự nhiên khác nhau trên một vòng tròn sao cho không có 2 hoặc 3 số nào ở vị trí liên tiếp nhau có tổng chia hết cho 3.\\n![](https://img.loigiaihay.com/picture/2023/0728/19_3.png)\\na) Hãy tìm một bộ 5 số tự nhiên thỏa mãn yêu cầu đề bài và điền vào hình.\\nb) Chứng tỏ trong mỗi bộ 5 số thỏa mãn yêu cầu đề bài có ít nhất 1 số chia hết cho 3.\\n**Cách giải:**\\na) Bộ 5 số thỏa mãn yêu cầu như hình vẽ:\\n![](https://img.loigiaihay.com/picture/2023/0620/19_1.png)\\nb) Giả sử cả 5 số đều không chia hết cho 3, khi đó các số này chia 3 dư 1 hoặc chia 3 dư 2.\\n- Xét số a chia 3 dư 1. Khi đó để tổng hai số liên tiếp (có chứa số a) không chia hết cho 3 thì hai số đứng cạnh a phải chia 3 dư 1. Do đó, ta có 3 số liên tiếp cùng chia 3 dư 1, tức là tổng 3 số này chia hết cho 3 (vô lí)\\n- Lập luận tương tự với số chia 3 dư 2, ta thấy vô lí.\\nVậy trong 5 số luôn có ít nhất 1 số phải chia hết cho 3.', 'grade_id': 'e1403d26-0fc4-4cab-b66d-34c2393abadf'}, vector=None, shard_key=None, order_value=None),\n",
       " Record(id='f4023133-2e19-4284-ae35-1788c53074dc', payload={'type': 'exam', 'link': 'https://loigiaihay.com/de-thi-vao-lop-6-mon-toan-truong-luong-the-vinh-2021-co-dap-an-a134641.html', 'cleaned_content': '**Đáp án**\\n**HƯỚNG DẪN GIẢI CHI TIẾT**\\n**Bài 1**\\nMột ngày số km mà Hưng chạy được là 1+17=87\\nTrong 1 tuần số km mà Hưng chạy được là: 87×7=8\\nĐáp số: 8 km\\n**Bài 2**\\nSố nam lớp An chiếm số phần trăm so với cả lớp là 100 % - 72% = 28%\\nĐáp số: 28%\\n**Bài 3**\\nThời gian máy làm xong 175 dụng cụ là:\\n175 x 1,2 = 210 (phút)\\nĐổi 210 phút = 3 giờ 30 phút\\nThời gian máy tự động làm xong dụng cụ là:\\n7 giờ 30 phút + 3 giờ 30 phút = 11 giờ\\nĐáp số: 11 giờ\\n**Bài 4**\\nBán kính hình tròn là 7 : 2 = 3,5 (cm)\\nDiện tích hình tròn là:\\nS = r x r x 3,14 = 3,5 x 3,5 x 3,14 = 38,465 (cm2)\\nĐáp số: 38,465 cm2\\n**Bài 5**\\nChiều dài mới là 100% + 10% = 110%\\nChiều rộng mới là 100% - 10% = 90%\\nDiện tích hình chữ nhật mới sẽ là:\\n110% dài x 90% rộng = 99% x dài x rộng = 99% x diện tích ban đầu\\nVậy diện tích hình chữ nhật mới bằng 99% diện tích ban đầu.\\n**Bài 6**\\nGiả sử số trâu bằng số bò và cùng bằng 25 con thì theo bài ra:\\n253425×25+34×25=10+18,75=28,75>27\\nVì 34>25\\nVì 25\\nSuy ra số trâu có thể là: 30 ; 35 ; 40 ; 45\\nChúng ta có bảng sau:\\n![](https://img.loigiaihay.com/picture/2023/0304/20_1.png)\\n**Bài 7**\\nGọi số bát tô là 1 phần thì số đĩa là 2 phần, số bát ăn cơm là 8 phần.\\nPhần trăm số bát tô so với số bát ăn là 18=0,125=12,5\\nĐáp số: 12,5%\\n**Bài 8**\\n![](https://img.loigiaihay.com/picture/2023/0802/20_5.png)\\nCoi 6 khối hộp chữ nhật tô màu vàng ghép lại được hình H1\\nKhối H1 có chiều dài là 12 dm, chiều rộng 6 dm và chiều cao là 3,5 dm\\nKhối H2 có chiều dài 4 dm, chiều rộng 3 dm, chiều cao 3,5 dm\\nDiện tích xung quanh của khối H1 là (12 + 6) x 2 x 3,5 = 126 (dm2)\\nDiện tích toàn phần của khối H1 là 126 + 12 x 6 x 2 = 270 (dm2)\\nDiện xung quanh khối H2 (tô màu xanh) là (4 + 3) x 2 x 3,5 = 49 (dm2)\\nDiện tích toàn phần của khối H2 là 49 + 4 x 3 x 2 = 73 (dm2)\\nTa thấy khối H1 và H2 có 2 mặt chung.\\nDiện tích một mặt chung là 3,5 x 3 = 10,5 (dm2)\\nDiện tích toàn phần của hình đã cho là 270 + 73 – 10,5 x 2 = 322 (dm2)\\nĐáp số: 322 dm2\\n**Bài 9**\\n1 học sinh ăn hết số gạo đã dự trữ trong số ngày là\\n480 x 25 = 12000 (ngày)\\nTổng số học sinh sau khi nhậm thêm là\\n480 + 20 = 500 (học sinh)\\nSố gạo đủ ăn trong số ngày là\\n12000 : 500 = 24 (ngày)\\nĐáp số: 24 ngày\\n**Bài 10**\\n+) a chia hết cho 7 vì a = 77…7 = 7 x 111....1 (2022 chữ số 1)\\n+) a chia hết cho 77 = 7 x 11 vì:\\na = 7 x 111…1 (2022 chữ số 1) = 7 x 11 x 10101…01\\n+) Xét 232 = 2 x 4 x 29\\nVì a = 777…7 không chia hết cho 2 nên a không chia hết cho 232.\\n+) Xét 63 = 7 x 9\\nMà a có tổng các chữ số là 7 x 2022 = 14154\\nTổng các chữ số của 14154 là 1 + 4 + 1 + 5 + 4 = 15 không chia hết cho 9.\\nVậy a không chia hết cho 63.\\nKết luận: a không chia hết cho 232 và 63.', 'grade_id': 'e1403d26-0fc4-4cab-b66d-34c2393abadf'}, vector=None, shard_key=None, order_value=None)]"
      ]
     },
     "execution_count": 13,
     "metadata": {},
     "output_type": "execute_result"
    }
   ],
   "source": [
    "points"
   ]
  },
  {
   "cell_type": "code",
   "execution_count": 14,
   "id": "f2675670",
   "metadata": {},
   "outputs": [
    {
     "name": "stdout",
     "output_type": "stream",
     "text": [
      "**Đáp án**\n",
      "**HƯỚNG DẪN GIẢI CHI TIẾT**\n",
      "**I. TRẮC NGHIỆM**\n",
      "**Câu 1****(0,5 điểm)****.** Cho biểu đồ như hình dưới đây. Tìm tỉ số phần trăm số học sinh khối 9 so với số học sinh toàn trường.\n",
      "![](https://img.loigiaihay.com/picture/2025/0602/20_1.png)\n",
      "**A.** 22,5% **B.** 12,5% **C.** 32% **D.** 25%\n",
      "**Cách giải:**\n",
      "Số học sinh khối 6 được biểu diễn là 14\n",
      "Tỉ số phần trăm học sinh khối 9 là: 100% - (12,5% + 40% + 25%) = 22,5%\n",
      "**Đáp số: 22,5%**\n",
      "**Câu 2****(0,5 điểm)****.** Gieo 1 viên xúc sắc 20 lần liên tiếp kết quả nhận được như bảng sau:\n",
      "![](https://img.loigiaihay.com/picture/2025/0602/20_1.PNG)\n",
      "Tỉ số giữa số lần xuất hiện mặt có số chấm là số lẻ và tổng số lần đã gieo là bao nhiêu?\n",
      "**A.** 920**B.** 1120**C.** 320**D.** 120\n",
      "**Cách giải:**\n",
      "Số lần xuất hiện mặt có chấm là số lẻ là: 5 + 3 + 1 = 9 (lần)\n",
      "Tỉ số giữa số lần xuất hiện mặt số chấm là số lẻ và tổng số lần đã gieo là: 9:20=920\n",
      "**Đáp số:** 920\n",
      "**Câu 3 (0,5 điểm).** Tìm số tự nhiên thích hợp điền vào chỗ trống là: 526<....26<625\n",
      "**A.** 3 **B.** 4 **C.** 5 **D.** 6\n",
      "**Cách giải:**\n",
      "Số tự nhiên cần điền là: 6\n",
      "**Đáp án: 6**\n",
      "**Câu 4****(0,5 điểm)****.** Tính kết quả của phép tính:\n",
      "20,26 x 42,6 + 20,26 x 57,4\n",
      "**A.** 20,26 **B.** 202,6 **C.** 2026 **D.** 2025\n",
      "**Cách giải:**\n",
      "20,26 x 42,6 + 20,26 x 57,4\n",
      "= 20,26 x (42,6 + 57,4)\n",
      "= 20,26 x 100\n",
      "= 2026\n",
      "**Đáp án: 2026**\n",
      "**Câu 5****(0,5 điểm)****.** Nhà bác An có một mảnh đất. Bác An dùng 35\n",
      "Phần còn lại có diện tích là 60m2. Tính diện tích mảnh đất.\n",
      "**A.** 36m² **B.** 100 m² **C.** 24 m² **D.** 150 m²\n",
      "**Cách giải:**\n",
      "Coi diện tích mảnh đất là 1 đơn vị.\n",
      "Phân số chỉ 60 m2 là: 1−35=25\n",
      "Diện tích mảnh đất là: 60 : 2 x 5 = 150 (m2)\n",
      "**Đáp****án****: 150 m****2**\n",
      "**Câu 6****(0,5 điểm)** Một miếng bìa hình chữ nhật có chiều dài là 25cm và chiều rộng là 20cm. Người ta cắt 4 góc miếng bìa hình vuông có cạnh là 5cm và gấp thành hình hộp chữ nhật (như hình dưới). Tính thể tích hình hộp chữ nhật đó.\n",
      "![](https://img.loigiaihay.com/picture/2025/0602/21_1.png)\n",
      "**A.** 200cm³ **B.** 1500cm³ **C.** 750cm³ **D.** 600cm³\n",
      "**Cách giải:**\n",
      "Chiều rộng của hình hộp chữ nhật là: 20 – (5 + 5) = 10 (cm)\n",
      "Chiều dài của hình hộp chữ nhật là: 25 – (5 + 5) = 15 (cm)\n",
      "Chiều cao của hình hộp chữ nhật là 5cm.\n",
      "Thể tích của hình đó là: 15 x 10 x 5 = 750 (cm3)\n",
      "**Đáp****án****: 750cm**\n",
      "**Câu 7****(0,5 điểm)****.** Cho nửa hình tròn có đường kính 40cm, người thợ mộc cắt 2 nửa hình tròn có đường kính bằng bán kính của hình tròn trước. Tính diện tích của hình tròn mới bị cắt.\n",
      "![](https://img.loigiaihay.com/picture/2025/0602/22_1.png)\n",
      "**A.** 314 cm² **B.** 628 cm² **C.** 942 cm² **D.** 154 cm²\n",
      "**Cách giải:**\n",
      "Đường kính hình tròn mới là: 40 : 2 = 20 (cm)\n",
      "Bán kính hình tròn mới là: 20 : 2 = 10 (cm)\n",
      "Diện tích hình tròn mới bị cắt là: 10 x 10 x 3,14 = 314 (cm2)\n",
      "**Đáp****án****: 314 cm****2**\n",
      "**Câu 8. (0,5 điểm)**. Có bao nhiêu số có 2 chữ số mà chữ số hàng chục lớn hơn chữ số hàng đơn\n",
      "vị là 4.\n",
      "**A.** 3 **B.** 4 **C.** 5 **D.** 6\n",
      "**Cách giải:**\n",
      "Các số thỏa mãn là: 40; 51; 62; 73; 84; 95. Vậy có 6 số thỏa mãn yêu cầu bài toán.\n",
      "**Đáp****án****: 6 số**\n",
      "**II. Viết đáp số vào ô****trả lời tương ứng với mỗi câu hỏi**\n",
      "**Câu****9****.** (0,75 điểm) Một chiếc áo có giá 500 000 đồng. Vì không ai mua nên giảm giá 20% so với giá ban đầu. Nhưng vẫn không ai mua nên giảm giá tiếp 40% so với giá giảm lần đầu. Hỏi giá chiếc áo sau 2 lần giảm là bao nhiêu?\n",
      "**Cách giải:**\n",
      "Giá chiếc áo sau khi giảm lần đầu là: 500 000 – 500 000 × 20 : 100 = 400 000 (đồng)\n",
      "Giá chiếc áo sau khi giảm lần hai là: 400 000 – 400 000 × 40 : 100 = 240 000 (đồng)\n",
      "**Đáp số: 240 000 đồng**\n",
      "**Câu****10****.** (0,75 điểm) Trên quãng đường AB dài 200km có hai người đi ngược chiều nhau. Lúc 7 giờ 30 phút có 1 xe tải đi từ A đến B với vận tốc 40km/giờ. Sau 30 phút có 1 xe khách đi từ B đến A với vận tốc 60km/giờ. Hỏi lúc 9 giờ cùng ngày hai xe cách nhau bao nhiêu ki-lô-mét?\n",
      "**Cách giải:**\n",
      "Đổi: 30 phút = 0,5 giờ\n",
      "Lúc 9 giờ xe tải đi được số giờ là: 9 giờ - 7 giờ 30 phút = 1 giờ 30 phút = 1,5 giờ\n",
      "Lúc 9 giờ quãng đường xe tải đã đi được là: 40 x 1,5 = 60 (km)\n",
      "Lúc 9 giờ xe khách đi được số giờ là: 9 giờ - 7 giờ 30 phút – 30 phút = 1 (giờ)\n",
      "Lúc 9 giờ quãng đường xe khách đã đi được là: 60 x 1 = 60 (km)\n",
      "Lúc 9 giờ hai xe cách nhau là: 200 – 60 – 60 = 80 (km)\n",
      "**Đáp số: 80km**\n",
      "**Câu****11**(0,75 điểm)**.** Tổng số học sinh lớp 5A là 45 học sinh. Biết số học sinh nam bằng 45\n",
      "**Cách giải:**\n",
      "Số học sinh nữ là: 45 : (4 + 5) x 5 = 25 (học sinh)\n",
      "**Đáp số: 25 học sinh**\n",
      "**Câu 12.** (0,75 điểm) Có 15 hình lập phương nhỏ có cạnh 1cm. Người ta xếp 15 hình lập phương này thành một hình lập phương lớn. Hỏi diện tích toàn phần lớn nhất của hình hộp chữ nhật là bao nhiêu?\n",
      "**Cách giải:**\n",
      "Ta có: 15 = 1 x 1 x 15 =1 x 3 x 5\n",
      "Kích thước của hình hộp chữ nhật sau khi xếp có thể là:\n",
      "1cm x 1cm x 15cm hoặc 1cm x 3cm x 5cm.\n",
      "Trường hợp kích thước 1cm x 1cm x 15cm thì diện tích toàn phần là:\n",
      "(1 + 15) x 2 x 1 + 1 x 15 x 2 = 62 (cm²)\n",
      "Trường hợp kích thước 1cm x 3cm x 5cm diện tích toàn phần là:\n",
      "(1 + 5) x 2 x 3 + 1 x 5 x 2 = 46 (cm2)\n",
      "Vậy diện tích toàn phần lớn nhất là 62cm2\n",
      "**Đáp số: 62cm 2**\n",
      "**III. TỰ LUẬN**\n",
      "**Câu 13** (1 điểm). Để lập ra quỹ ủng hộ, lớp 6A và 6B bán đồ handmade, số tiền mà lớp 6B nhận được nhiều hơn số tiền lớp 6A nhận được là 2 triệu đồng. Trung bình cộng số tiền hai lớp thu được là 5 triệu đồng. Hỏi mỗi lớp nhận được bao nhiêu tiền?\n",
      "**Cách giải**\n",
      "Tổng số tiền lớp 6A và 6B là:\n",
      "5 x 2 = 10 (triệu đồng)\n",
      "Số tiền lớp 6B nhận được là:\n",
      "(10 + 2) : 2 = 6 (triệu đồng)\n",
      "Số tiền lớp 6A nhận được là:\n",
      "10 – 6 = 4 (triệu đồng)\n",
      "Đáp số: 6A: 4 triệu đồng\n",
      "6B: 6 triệu đồng\n",
      "**Câu 14**(1 điểm)**.** Cho quãng đường AB có độ dài là 180km. Vận tốc xe máy là 45km/giờ, xe ô tô là 60km/giờ. Hỏi sau bao lâu thì quãng đường còn lại của xe máy gấp đôi ô tô biết 2 xe đi cùng chiều.\n",
      "**Cách giải**\n",
      "![](https://img.loigiaihay.com/picture/2025/0602/23.PNG)\n",
      "Gọi quãng đường đã đi của ô tô là AC. Quãng đường còn lại là CB.\n",
      "Quãng đường đã đi của xe máy là AD. Quãng đường còn lại là DB.\n",
      "Ta có CB = 1212\n",
      "Tỉ số vận tốc xe máy và ô tô là : 45 : 60 = 34\n",
      "Cùng thời gian thì vận tốc và quãng đường tỉ lệ thuận với nhau, suy ra:\n",
      "Tỉ lệ quãng đường đã đi của xe máy và ô tô là 34ADAC=34\n",
      "Coi AC là 4 phần, AD là 3 phần. DC là 1 phần, CB là 1 phần. Suy ra AB là 5 phần.\n",
      "Quãng đường đã đi của ô tô là: 180 : 5 x 4 = 144 (km)\n",
      "Thời gian đã đi của 2 xe là: 144 : 60 = 2,4 (giờ)\n",
      "Đáp số: 2,4 giờ\n",
      "**Câu 15** (1 điểm). Cho tam giác ABC. Trên AB lấy điểm D sao cho AD = 2 BD. Trên BC lấy điểm\n",
      "E sao cho BE = 2 CE. Đoạn thẳng AD, CE cắt nhau tại F. Biết diện tích tam giác ACF là 20 cm2.\n",
      "Tính diện tích tam giác ABC.\n",
      "**Cách giải:**\n",
      "![](https://img.loigiaihay.com/picture/2025/0602/24.png)\n",
      "Nối B với F\n",
      "Hai tam giác ADC và tam giác CBD có chung chiều cao hạ từ C và AD = 2 x BD\n",
      "Suy ra: SADC = 2 x SCBD\n",
      "Hai tam giác AFD và BFD có chung chiều cao F và AD = 2 x BD\n",
      "Suy ra: SAFD = 2 x SBFD\n",
      "Từ đó suy ra: SADC - SAFD = 2 x (SCBD - SBFD)\n",
      "hay SAFC = 2 x SBFC\n",
      "SBFC = 20 : 2 x 1 = 10 (cm2)\n",
      "Làm tương tự ta được: SAFC = 12AFB\n",
      "SAFB = 20 x 2 = 40 (cm2)\n",
      "SABC = SBFC + SAFB + SAFC = 10 + 40 + 20 = 70 (cm2)\n",
      "Đáp số: 70 cm2\n",
      "**  \n",
      "**\n"
     ]
    }
   ],
   "source": [
    "cleaned_content = points[0].payload[\"cleaned_content\"]\n",
    "print(cleaned_content)"
   ]
  },
  {
   "cell_type": "code",
   "execution_count": 22,
   "id": "2169c734",
   "metadata": {},
   "outputs": [],
   "source": [
    "import os\n",
    "from typing import List, Optional, Dict\n",
    "from pydantic import BaseModel, Field\n",
    "from langchain_openai import ChatOpenAI\n",
    "from langchain.prompts import PromptTemplate\n",
    "from langchain.output_parsers import PydanticOutputParser\n",
    "\n",
    "class Problem(BaseModel):\n",
    "    question: str = Field(..., description=\"Câu hỏi chính của bài thi, thường bắt đầu bằng 'Câu ...'. Câu hỏi có thể chứa các công thức latex\")\n",
    "    image_url: Optional[str] = Field(None, description=\"URL hình ảnh minh họa, trong trường hợp câu hỏi cần hình vẽ để mô tả\")\n",
    "    solution: str = Field(..., description=\"Hướng dẫn giải, trong hướng dẫn có thể có các công thức latex\")\n",
    "    result: Optional[str] = Field(None, description=\"Đáp án của những câu hỏi trắc nghiệm\")\n",
    "    \n",
    "class Exam(BaseModel):\n",
    "    \"\"\"Mô hình dữ liệu cho toàn bộ đề thi, chứa một danh sách các bài toán.\"\"\"\n",
    "    problems: List[Problem]"
   ]
  },
  {
   "cell_type": "code",
   "execution_count": 42,
   "id": "e7d4c4eb",
   "metadata": {},
   "outputs": [],
   "source": [
    "llm = ChatOpenAI(\n",
    "  api_key=os.getenv(\"OPEN_ROUTER\"),\n",
    "  base_url=\"https://openrouter.ai/api/v1\",\n",
    "  model=\"qwen/qwen3-8b:free\",\n",
    ")\n",
    "\n",
    "# Khởi tạo Output Parser với Pydantic model đã định nghĩa\n",
    "# Parser này sẽ tự động tạo hướng dẫn định dạng và phân tích cú pháp đầu ra của LLM\n",
    "parser = PydanticOutputParser(pydantic_object=Exam)\n",
    "\n",
    "prompt_template = \"\"\"\n",
    "Bạn là một trợ lý AI chuyên phân tích và bóc tách nội dung đề thi.\n",
    "Nhiệm vụ của bạn là đọc kỹ văn bản đề thi dưới đây và trích xuất tất cả các bài tập vào một cấu trúc JSON.\n",
    "Mỗi bài tập phải có đầy đủ các trường thông tin được yêu cầu. Chú ý các bài tự luận có thể không có lựa chọn (choices).\n",
    "NOTE: GIỮ CÁC CÔNG THỨC Ở DẠNG LATEX\n",
    "\n",
    "{format_instructions}\n",
    "\n",
    "Văn bản đề thi cần xử lý:\n",
    "---------------------\n",
    "{exam_text}\n",
    "---------------------\n",
    "\"\"\"\n",
    "\n",
    "prompt = PromptTemplate(\n",
    "    template=prompt_template,\n",
    "    input_variables=[\"exam_text\"],\n",
    "    partial_variables={\"format_instructions\": parser.get_format_instructions()},\n",
    ")\n",
    "\n",
    "# Kết hợp các thành phần lại thành một chuỗi (chain)\n",
    "# Cú pháp `|` là LangChain Expression Language (LCEL)\n",
    "chain = prompt | llm | parser\n"
   ]
  },
  {
   "cell_type": "code",
   "execution_count": 43,
   "id": "52b89b01",
   "metadata": {},
   "outputs": [
    {
     "name": "stdout",
     "output_type": "stream",
     "text": [
      "HTTP Request: POST https://openrouter.ai/api/v1/chat/completions \"HTTP/1.1 401 Unauthorized\"\n"
     ]
    },
    {
     "ename": "AuthenticationError",
     "evalue": "Error code: 401 - {'error': {'message': 'No auth credentials found', 'code': 401}}",
     "output_type": "error",
     "traceback": [
      "\u001b[31m---------------------------------------------------------------------------\u001b[39m",
      "\u001b[31mAuthenticationError\u001b[39m                       Traceback (most recent call last)",
      "\u001b[36mCell\u001b[39m\u001b[36m \u001b[39m\u001b[32mIn[43]\u001b[39m\u001b[32m, line 1\u001b[39m\n\u001b[32m----> \u001b[39m\u001b[32m1\u001b[39m result = \u001b[43mchain\u001b[49m\u001b[43m.\u001b[49m\u001b[43minvoke\u001b[49m\u001b[43m(\u001b[49m\u001b[43m{\u001b[49m\u001b[33;43m\"\u001b[39;49m\u001b[33;43mexam_text\u001b[39;49m\u001b[33;43m\"\u001b[39;49m\u001b[43m:\u001b[49m\u001b[43m \u001b[49m\u001b[43mcleaned_content\u001b[49m\u001b[43m}\u001b[49m\u001b[43m)\u001b[49m\n",
      "\u001b[36mFile \u001b[39m\u001b[32m~/.cache/pypoetry/virtualenvs/mathpal-EU7lYW5B-py3.11/lib/python3.11/site-packages/langchain_core/runnables/base.py:3046\u001b[39m, in \u001b[36mRunnableSequence.invoke\u001b[39m\u001b[34m(self, input, config, **kwargs)\u001b[39m\n\u001b[32m   3044\u001b[39m                 input_ = context.run(step.invoke, input_, config, **kwargs)\n\u001b[32m   3045\u001b[39m             \u001b[38;5;28;01melse\u001b[39;00m:\n\u001b[32m-> \u001b[39m\u001b[32m3046\u001b[39m                 input_ = context.run(step.invoke, input_, config)\n\u001b[32m   3047\u001b[39m \u001b[38;5;66;03m# finish the root run\u001b[39;00m\n\u001b[32m   3048\u001b[39m \u001b[38;5;28;01mexcept\u001b[39;00m \u001b[38;5;167;01mBaseException\u001b[39;00m \u001b[38;5;28;01mas\u001b[39;00m e:\n",
      "\u001b[36mFile \u001b[39m\u001b[32m~/.cache/pypoetry/virtualenvs/mathpal-EU7lYW5B-py3.11/lib/python3.11/site-packages/langchain_core/language_models/chat_models.py:395\u001b[39m, in \u001b[36mBaseChatModel.invoke\u001b[39m\u001b[34m(self, input, config, stop, **kwargs)\u001b[39m\n\u001b[32m    383\u001b[39m \u001b[38;5;129m@override\u001b[39m\n\u001b[32m    384\u001b[39m \u001b[38;5;28;01mdef\u001b[39;00m\u001b[38;5;250m \u001b[39m\u001b[34minvoke\u001b[39m(\n\u001b[32m    385\u001b[39m     \u001b[38;5;28mself\u001b[39m,\n\u001b[32m   (...)\u001b[39m\u001b[32m    390\u001b[39m     **kwargs: Any,\n\u001b[32m    391\u001b[39m ) -> BaseMessage:\n\u001b[32m    392\u001b[39m     config = ensure_config(config)\n\u001b[32m    393\u001b[39m     \u001b[38;5;28;01mreturn\u001b[39;00m cast(\n\u001b[32m    394\u001b[39m         \u001b[33m\"\u001b[39m\u001b[33mChatGeneration\u001b[39m\u001b[33m\"\u001b[39m,\n\u001b[32m--> \u001b[39m\u001b[32m395\u001b[39m         \u001b[38;5;28;43mself\u001b[39;49m\u001b[43m.\u001b[49m\u001b[43mgenerate_prompt\u001b[49m\u001b[43m(\u001b[49m\n\u001b[32m    396\u001b[39m \u001b[43m            \u001b[49m\u001b[43m[\u001b[49m\u001b[38;5;28;43mself\u001b[39;49m\u001b[43m.\u001b[49m\u001b[43m_convert_input\u001b[49m\u001b[43m(\u001b[49m\u001b[38;5;28;43minput\u001b[39;49m\u001b[43m)\u001b[49m\u001b[43m]\u001b[49m\u001b[43m,\u001b[49m\n\u001b[32m    397\u001b[39m \u001b[43m            \u001b[49m\u001b[43mstop\u001b[49m\u001b[43m=\u001b[49m\u001b[43mstop\u001b[49m\u001b[43m,\u001b[49m\n\u001b[32m    398\u001b[39m \u001b[43m            \u001b[49m\u001b[43mcallbacks\u001b[49m\u001b[43m=\u001b[49m\u001b[43mconfig\u001b[49m\u001b[43m.\u001b[49m\u001b[43mget\u001b[49m\u001b[43m(\u001b[49m\u001b[33;43m\"\u001b[39;49m\u001b[33;43mcallbacks\u001b[39;49m\u001b[33;43m\"\u001b[39;49m\u001b[43m)\u001b[49m\u001b[43m,\u001b[49m\n\u001b[32m    399\u001b[39m \u001b[43m            \u001b[49m\u001b[43mtags\u001b[49m\u001b[43m=\u001b[49m\u001b[43mconfig\u001b[49m\u001b[43m.\u001b[49m\u001b[43mget\u001b[49m\u001b[43m(\u001b[49m\u001b[33;43m\"\u001b[39;49m\u001b[33;43mtags\u001b[39;49m\u001b[33;43m\"\u001b[39;49m\u001b[43m)\u001b[49m\u001b[43m,\u001b[49m\n\u001b[32m    400\u001b[39m \u001b[43m            \u001b[49m\u001b[43mmetadata\u001b[49m\u001b[43m=\u001b[49m\u001b[43mconfig\u001b[49m\u001b[43m.\u001b[49m\u001b[43mget\u001b[49m\u001b[43m(\u001b[49m\u001b[33;43m\"\u001b[39;49m\u001b[33;43mmetadata\u001b[39;49m\u001b[33;43m\"\u001b[39;49m\u001b[43m)\u001b[49m\u001b[43m,\u001b[49m\n\u001b[32m    401\u001b[39m \u001b[43m            \u001b[49m\u001b[43mrun_name\u001b[49m\u001b[43m=\u001b[49m\u001b[43mconfig\u001b[49m\u001b[43m.\u001b[49m\u001b[43mget\u001b[49m\u001b[43m(\u001b[49m\u001b[33;43m\"\u001b[39;49m\u001b[33;43mrun_name\u001b[39;49m\u001b[33;43m\"\u001b[39;49m\u001b[43m)\u001b[49m\u001b[43m,\u001b[49m\n\u001b[32m    402\u001b[39m \u001b[43m            \u001b[49m\u001b[43mrun_id\u001b[49m\u001b[43m=\u001b[49m\u001b[43mconfig\u001b[49m\u001b[43m.\u001b[49m\u001b[43mpop\u001b[49m\u001b[43m(\u001b[49m\u001b[33;43m\"\u001b[39;49m\u001b[33;43mrun_id\u001b[39;49m\u001b[33;43m\"\u001b[39;49m\u001b[43m,\u001b[49m\u001b[43m \u001b[49m\u001b[38;5;28;43;01mNone\u001b[39;49;00m\u001b[43m)\u001b[49m\u001b[43m,\u001b[49m\n\u001b[32m    403\u001b[39m \u001b[43m            \u001b[49m\u001b[43m*\u001b[49m\u001b[43m*\u001b[49m\u001b[43mkwargs\u001b[49m\u001b[43m,\u001b[49m\n\u001b[32m    404\u001b[39m \u001b[43m        \u001b[49m\u001b[43m)\u001b[49m.generations[\u001b[32m0\u001b[39m][\u001b[32m0\u001b[39m],\n\u001b[32m    405\u001b[39m     ).message\n",
      "\u001b[36mFile \u001b[39m\u001b[32m~/.cache/pypoetry/virtualenvs/mathpal-EU7lYW5B-py3.11/lib/python3.11/site-packages/langchain_core/language_models/chat_models.py:980\u001b[39m, in \u001b[36mBaseChatModel.generate_prompt\u001b[39m\u001b[34m(self, prompts, stop, callbacks, **kwargs)\u001b[39m\n\u001b[32m    971\u001b[39m \u001b[38;5;129m@override\u001b[39m\n\u001b[32m    972\u001b[39m \u001b[38;5;28;01mdef\u001b[39;00m\u001b[38;5;250m \u001b[39m\u001b[34mgenerate_prompt\u001b[39m(\n\u001b[32m    973\u001b[39m     \u001b[38;5;28mself\u001b[39m,\n\u001b[32m   (...)\u001b[39m\u001b[32m    977\u001b[39m     **kwargs: Any,\n\u001b[32m    978\u001b[39m ) -> LLMResult:\n\u001b[32m    979\u001b[39m     prompt_messages = [p.to_messages() \u001b[38;5;28;01mfor\u001b[39;00m p \u001b[38;5;129;01min\u001b[39;00m prompts]\n\u001b[32m--> \u001b[39m\u001b[32m980\u001b[39m     \u001b[38;5;28;01mreturn\u001b[39;00m \u001b[38;5;28;43mself\u001b[39;49m\u001b[43m.\u001b[49m\u001b[43mgenerate\u001b[49m\u001b[43m(\u001b[49m\u001b[43mprompt_messages\u001b[49m\u001b[43m,\u001b[49m\u001b[43m \u001b[49m\u001b[43mstop\u001b[49m\u001b[43m=\u001b[49m\u001b[43mstop\u001b[49m\u001b[43m,\u001b[49m\u001b[43m \u001b[49m\u001b[43mcallbacks\u001b[49m\u001b[43m=\u001b[49m\u001b[43mcallbacks\u001b[49m\u001b[43m,\u001b[49m\u001b[43m \u001b[49m\u001b[43m*\u001b[49m\u001b[43m*\u001b[49m\u001b[43mkwargs\u001b[49m\u001b[43m)\u001b[49m\n",
      "\u001b[36mFile \u001b[39m\u001b[32m~/.cache/pypoetry/virtualenvs/mathpal-EU7lYW5B-py3.11/lib/python3.11/site-packages/langchain_core/language_models/chat_models.py:799\u001b[39m, in \u001b[36mBaseChatModel.generate\u001b[39m\u001b[34m(self, messages, stop, callbacks, tags, metadata, run_name, run_id, **kwargs)\u001b[39m\n\u001b[32m    796\u001b[39m \u001b[38;5;28;01mfor\u001b[39;00m i, m \u001b[38;5;129;01min\u001b[39;00m \u001b[38;5;28menumerate\u001b[39m(input_messages):\n\u001b[32m    797\u001b[39m     \u001b[38;5;28;01mtry\u001b[39;00m:\n\u001b[32m    798\u001b[39m         results.append(\n\u001b[32m--> \u001b[39m\u001b[32m799\u001b[39m             \u001b[38;5;28;43mself\u001b[39;49m\u001b[43m.\u001b[49m\u001b[43m_generate_with_cache\u001b[49m\u001b[43m(\u001b[49m\n\u001b[32m    800\u001b[39m \u001b[43m                \u001b[49m\u001b[43mm\u001b[49m\u001b[43m,\u001b[49m\n\u001b[32m    801\u001b[39m \u001b[43m                \u001b[49m\u001b[43mstop\u001b[49m\u001b[43m=\u001b[49m\u001b[43mstop\u001b[49m\u001b[43m,\u001b[49m\n\u001b[32m    802\u001b[39m \u001b[43m                \u001b[49m\u001b[43mrun_manager\u001b[49m\u001b[43m=\u001b[49m\u001b[43mrun_managers\u001b[49m\u001b[43m[\u001b[49m\u001b[43mi\u001b[49m\u001b[43m]\u001b[49m\u001b[43m \u001b[49m\u001b[38;5;28;43;01mif\u001b[39;49;00m\u001b[43m \u001b[49m\u001b[43mrun_managers\u001b[49m\u001b[43m \u001b[49m\u001b[38;5;28;43;01melse\u001b[39;49;00m\u001b[43m \u001b[49m\u001b[38;5;28;43;01mNone\u001b[39;49;00m\u001b[43m,\u001b[49m\n\u001b[32m    803\u001b[39m \u001b[43m                \u001b[49m\u001b[43m*\u001b[49m\u001b[43m*\u001b[49m\u001b[43mkwargs\u001b[49m\u001b[43m,\u001b[49m\n\u001b[32m    804\u001b[39m \u001b[43m            \u001b[49m\u001b[43m)\u001b[49m\n\u001b[32m    805\u001b[39m         )\n\u001b[32m    806\u001b[39m     \u001b[38;5;28;01mexcept\u001b[39;00m \u001b[38;5;167;01mBaseException\u001b[39;00m \u001b[38;5;28;01mas\u001b[39;00m e:\n\u001b[32m    807\u001b[39m         \u001b[38;5;28;01mif\u001b[39;00m run_managers:\n",
      "\u001b[36mFile \u001b[39m\u001b[32m~/.cache/pypoetry/virtualenvs/mathpal-EU7lYW5B-py3.11/lib/python3.11/site-packages/langchain_core/language_models/chat_models.py:1045\u001b[39m, in \u001b[36mBaseChatModel._generate_with_cache\u001b[39m\u001b[34m(self, messages, stop, run_manager, **kwargs)\u001b[39m\n\u001b[32m   1043\u001b[39m     result = generate_from_stream(\u001b[38;5;28miter\u001b[39m(chunks))\n\u001b[32m   1044\u001b[39m \u001b[38;5;28;01melif\u001b[39;00m inspect.signature(\u001b[38;5;28mself\u001b[39m._generate).parameters.get(\u001b[33m\"\u001b[39m\u001b[33mrun_manager\u001b[39m\u001b[33m\"\u001b[39m):\n\u001b[32m-> \u001b[39m\u001b[32m1045\u001b[39m     result = \u001b[38;5;28;43mself\u001b[39;49m\u001b[43m.\u001b[49m\u001b[43m_generate\u001b[49m\u001b[43m(\u001b[49m\n\u001b[32m   1046\u001b[39m \u001b[43m        \u001b[49m\u001b[43mmessages\u001b[49m\u001b[43m,\u001b[49m\u001b[43m \u001b[49m\u001b[43mstop\u001b[49m\u001b[43m=\u001b[49m\u001b[43mstop\u001b[49m\u001b[43m,\u001b[49m\u001b[43m \u001b[49m\u001b[43mrun_manager\u001b[49m\u001b[43m=\u001b[49m\u001b[43mrun_manager\u001b[49m\u001b[43m,\u001b[49m\u001b[43m \u001b[49m\u001b[43m*\u001b[49m\u001b[43m*\u001b[49m\u001b[43mkwargs\u001b[49m\n\u001b[32m   1047\u001b[39m \u001b[43m    \u001b[49m\u001b[43m)\u001b[49m\n\u001b[32m   1048\u001b[39m \u001b[38;5;28;01melse\u001b[39;00m:\n\u001b[32m   1049\u001b[39m     result = \u001b[38;5;28mself\u001b[39m._generate(messages, stop=stop, **kwargs)\n",
      "\u001b[36mFile \u001b[39m\u001b[32m~/.cache/pypoetry/virtualenvs/mathpal-EU7lYW5B-py3.11/lib/python3.11/site-packages/langchain_openai/chat_models/base.py:1131\u001b[39m, in \u001b[36mBaseChatOpenAI._generate\u001b[39m\u001b[34m(self, messages, stop, run_manager, **kwargs)\u001b[39m\n\u001b[32m   1129\u001b[39m     generation_info = {\u001b[33m\"\u001b[39m\u001b[33mheaders\u001b[39m\u001b[33m\"\u001b[39m: \u001b[38;5;28mdict\u001b[39m(raw_response.headers)}\n\u001b[32m   1130\u001b[39m \u001b[38;5;28;01melse\u001b[39;00m:\n\u001b[32m-> \u001b[39m\u001b[32m1131\u001b[39m     response = \u001b[38;5;28;43mself\u001b[39;49m\u001b[43m.\u001b[49m\u001b[43mclient\u001b[49m\u001b[43m.\u001b[49m\u001b[43mcreate\u001b[49m\u001b[43m(\u001b[49m\u001b[43m*\u001b[49m\u001b[43m*\u001b[49m\u001b[43mpayload\u001b[49m\u001b[43m)\u001b[49m\n\u001b[32m   1132\u001b[39m \u001b[38;5;28;01mreturn\u001b[39;00m \u001b[38;5;28mself\u001b[39m._create_chat_result(response, generation_info)\n",
      "\u001b[36mFile \u001b[39m\u001b[32m~/.cache/pypoetry/virtualenvs/mathpal-EU7lYW5B-py3.11/lib/python3.11/site-packages/openai/_utils/_utils.py:287\u001b[39m, in \u001b[36mrequired_args.<locals>.inner.<locals>.wrapper\u001b[39m\u001b[34m(*args, **kwargs)\u001b[39m\n\u001b[32m    285\u001b[39m             msg = \u001b[33mf\u001b[39m\u001b[33m\"\u001b[39m\u001b[33mMissing required argument: \u001b[39m\u001b[38;5;132;01m{\u001b[39;00mquote(missing[\u001b[32m0\u001b[39m])\u001b[38;5;132;01m}\u001b[39;00m\u001b[33m\"\u001b[39m\n\u001b[32m    286\u001b[39m     \u001b[38;5;28;01mraise\u001b[39;00m \u001b[38;5;167;01mTypeError\u001b[39;00m(msg)\n\u001b[32m--> \u001b[39m\u001b[32m287\u001b[39m \u001b[38;5;28;01mreturn\u001b[39;00m \u001b[43mfunc\u001b[49m\u001b[43m(\u001b[49m\u001b[43m*\u001b[49m\u001b[43margs\u001b[49m\u001b[43m,\u001b[49m\u001b[43m \u001b[49m\u001b[43m*\u001b[49m\u001b[43m*\u001b[49m\u001b[43mkwargs\u001b[49m\u001b[43m)\u001b[49m\n",
      "\u001b[36mFile \u001b[39m\u001b[32m~/.cache/pypoetry/virtualenvs/mathpal-EU7lYW5B-py3.11/lib/python3.11/site-packages/openai/resources/chat/completions/completions.py:1087\u001b[39m, in \u001b[36mCompletions.create\u001b[39m\u001b[34m(self, messages, model, audio, frequency_penalty, function_call, functions, logit_bias, logprobs, max_completion_tokens, max_tokens, metadata, modalities, n, parallel_tool_calls, prediction, presence_penalty, reasoning_effort, response_format, seed, service_tier, stop, store, stream, stream_options, temperature, tool_choice, tools, top_logprobs, top_p, user, web_search_options, extra_headers, extra_query, extra_body, timeout)\u001b[39m\n\u001b[32m   1044\u001b[39m \u001b[38;5;129m@required_args\u001b[39m([\u001b[33m\"\u001b[39m\u001b[33mmessages\u001b[39m\u001b[33m\"\u001b[39m, \u001b[33m\"\u001b[39m\u001b[33mmodel\u001b[39m\u001b[33m\"\u001b[39m], [\u001b[33m\"\u001b[39m\u001b[33mmessages\u001b[39m\u001b[33m\"\u001b[39m, \u001b[33m\"\u001b[39m\u001b[33mmodel\u001b[39m\u001b[33m\"\u001b[39m, \u001b[33m\"\u001b[39m\u001b[33mstream\u001b[39m\u001b[33m\"\u001b[39m])\n\u001b[32m   1045\u001b[39m \u001b[38;5;28;01mdef\u001b[39;00m\u001b[38;5;250m \u001b[39m\u001b[34mcreate\u001b[39m(\n\u001b[32m   1046\u001b[39m     \u001b[38;5;28mself\u001b[39m,\n\u001b[32m   (...)\u001b[39m\u001b[32m   1084\u001b[39m     timeout: \u001b[38;5;28mfloat\u001b[39m | httpx.Timeout | \u001b[38;5;28;01mNone\u001b[39;00m | NotGiven = NOT_GIVEN,\n\u001b[32m   1085\u001b[39m ) -> ChatCompletion | Stream[ChatCompletionChunk]:\n\u001b[32m   1086\u001b[39m     validate_response_format(response_format)\n\u001b[32m-> \u001b[39m\u001b[32m1087\u001b[39m     \u001b[38;5;28;01mreturn\u001b[39;00m \u001b[38;5;28;43mself\u001b[39;49m\u001b[43m.\u001b[49m\u001b[43m_post\u001b[49m\u001b[43m(\u001b[49m\n\u001b[32m   1088\u001b[39m \u001b[43m        \u001b[49m\u001b[33;43m\"\u001b[39;49m\u001b[33;43m/chat/completions\u001b[39;49m\u001b[33;43m\"\u001b[39;49m\u001b[43m,\u001b[49m\n\u001b[32m   1089\u001b[39m \u001b[43m        \u001b[49m\u001b[43mbody\u001b[49m\u001b[43m=\u001b[49m\u001b[43mmaybe_transform\u001b[49m\u001b[43m(\u001b[49m\n\u001b[32m   1090\u001b[39m \u001b[43m            \u001b[49m\u001b[43m{\u001b[49m\n\u001b[32m   1091\u001b[39m \u001b[43m                \u001b[49m\u001b[33;43m\"\u001b[39;49m\u001b[33;43mmessages\u001b[39;49m\u001b[33;43m\"\u001b[39;49m\u001b[43m:\u001b[49m\u001b[43m \u001b[49m\u001b[43mmessages\u001b[49m\u001b[43m,\u001b[49m\n\u001b[32m   1092\u001b[39m \u001b[43m                \u001b[49m\u001b[33;43m\"\u001b[39;49m\u001b[33;43mmodel\u001b[39;49m\u001b[33;43m\"\u001b[39;49m\u001b[43m:\u001b[49m\u001b[43m \u001b[49m\u001b[43mmodel\u001b[49m\u001b[43m,\u001b[49m\n\u001b[32m   1093\u001b[39m \u001b[43m                \u001b[49m\u001b[33;43m\"\u001b[39;49m\u001b[33;43maudio\u001b[39;49m\u001b[33;43m\"\u001b[39;49m\u001b[43m:\u001b[49m\u001b[43m \u001b[49m\u001b[43maudio\u001b[49m\u001b[43m,\u001b[49m\n\u001b[32m   1094\u001b[39m \u001b[43m                \u001b[49m\u001b[33;43m\"\u001b[39;49m\u001b[33;43mfrequency_penalty\u001b[39;49m\u001b[33;43m\"\u001b[39;49m\u001b[43m:\u001b[49m\u001b[43m \u001b[49m\u001b[43mfrequency_penalty\u001b[49m\u001b[43m,\u001b[49m\n\u001b[32m   1095\u001b[39m \u001b[43m                \u001b[49m\u001b[33;43m\"\u001b[39;49m\u001b[33;43mfunction_call\u001b[39;49m\u001b[33;43m\"\u001b[39;49m\u001b[43m:\u001b[49m\u001b[43m \u001b[49m\u001b[43mfunction_call\u001b[49m\u001b[43m,\u001b[49m\n\u001b[32m   1096\u001b[39m \u001b[43m                \u001b[49m\u001b[33;43m\"\u001b[39;49m\u001b[33;43mfunctions\u001b[39;49m\u001b[33;43m\"\u001b[39;49m\u001b[43m:\u001b[49m\u001b[43m \u001b[49m\u001b[43mfunctions\u001b[49m\u001b[43m,\u001b[49m\n\u001b[32m   1097\u001b[39m \u001b[43m                \u001b[49m\u001b[33;43m\"\u001b[39;49m\u001b[33;43mlogit_bias\u001b[39;49m\u001b[33;43m\"\u001b[39;49m\u001b[43m:\u001b[49m\u001b[43m \u001b[49m\u001b[43mlogit_bias\u001b[49m\u001b[43m,\u001b[49m\n\u001b[32m   1098\u001b[39m \u001b[43m                \u001b[49m\u001b[33;43m\"\u001b[39;49m\u001b[33;43mlogprobs\u001b[39;49m\u001b[33;43m\"\u001b[39;49m\u001b[43m:\u001b[49m\u001b[43m \u001b[49m\u001b[43mlogprobs\u001b[49m\u001b[43m,\u001b[49m\n\u001b[32m   1099\u001b[39m \u001b[43m                \u001b[49m\u001b[33;43m\"\u001b[39;49m\u001b[33;43mmax_completion_tokens\u001b[39;49m\u001b[33;43m\"\u001b[39;49m\u001b[43m:\u001b[49m\u001b[43m \u001b[49m\u001b[43mmax_completion_tokens\u001b[49m\u001b[43m,\u001b[49m\n\u001b[32m   1100\u001b[39m \u001b[43m                \u001b[49m\u001b[33;43m\"\u001b[39;49m\u001b[33;43mmax_tokens\u001b[39;49m\u001b[33;43m\"\u001b[39;49m\u001b[43m:\u001b[49m\u001b[43m \u001b[49m\u001b[43mmax_tokens\u001b[49m\u001b[43m,\u001b[49m\n\u001b[32m   1101\u001b[39m \u001b[43m                \u001b[49m\u001b[33;43m\"\u001b[39;49m\u001b[33;43mmetadata\u001b[39;49m\u001b[33;43m\"\u001b[39;49m\u001b[43m:\u001b[49m\u001b[43m \u001b[49m\u001b[43mmetadata\u001b[49m\u001b[43m,\u001b[49m\n\u001b[32m   1102\u001b[39m \u001b[43m                \u001b[49m\u001b[33;43m\"\u001b[39;49m\u001b[33;43mmodalities\u001b[39;49m\u001b[33;43m\"\u001b[39;49m\u001b[43m:\u001b[49m\u001b[43m \u001b[49m\u001b[43mmodalities\u001b[49m\u001b[43m,\u001b[49m\n\u001b[32m   1103\u001b[39m \u001b[43m                \u001b[49m\u001b[33;43m\"\u001b[39;49m\u001b[33;43mn\u001b[39;49m\u001b[33;43m\"\u001b[39;49m\u001b[43m:\u001b[49m\u001b[43m \u001b[49m\u001b[43mn\u001b[49m\u001b[43m,\u001b[49m\n\u001b[32m   1104\u001b[39m \u001b[43m                \u001b[49m\u001b[33;43m\"\u001b[39;49m\u001b[33;43mparallel_tool_calls\u001b[39;49m\u001b[33;43m\"\u001b[39;49m\u001b[43m:\u001b[49m\u001b[43m \u001b[49m\u001b[43mparallel_tool_calls\u001b[49m\u001b[43m,\u001b[49m\n\u001b[32m   1105\u001b[39m \u001b[43m                \u001b[49m\u001b[33;43m\"\u001b[39;49m\u001b[33;43mprediction\u001b[39;49m\u001b[33;43m\"\u001b[39;49m\u001b[43m:\u001b[49m\u001b[43m \u001b[49m\u001b[43mprediction\u001b[49m\u001b[43m,\u001b[49m\n\u001b[32m   1106\u001b[39m \u001b[43m                \u001b[49m\u001b[33;43m\"\u001b[39;49m\u001b[33;43mpresence_penalty\u001b[39;49m\u001b[33;43m\"\u001b[39;49m\u001b[43m:\u001b[49m\u001b[43m \u001b[49m\u001b[43mpresence_penalty\u001b[49m\u001b[43m,\u001b[49m\n\u001b[32m   1107\u001b[39m \u001b[43m                \u001b[49m\u001b[33;43m\"\u001b[39;49m\u001b[33;43mreasoning_effort\u001b[39;49m\u001b[33;43m\"\u001b[39;49m\u001b[43m:\u001b[49m\u001b[43m \u001b[49m\u001b[43mreasoning_effort\u001b[49m\u001b[43m,\u001b[49m\n\u001b[32m   1108\u001b[39m \u001b[43m                \u001b[49m\u001b[33;43m\"\u001b[39;49m\u001b[33;43mresponse_format\u001b[39;49m\u001b[33;43m\"\u001b[39;49m\u001b[43m:\u001b[49m\u001b[43m \u001b[49m\u001b[43mresponse_format\u001b[49m\u001b[43m,\u001b[49m\n\u001b[32m   1109\u001b[39m \u001b[43m                \u001b[49m\u001b[33;43m\"\u001b[39;49m\u001b[33;43mseed\u001b[39;49m\u001b[33;43m\"\u001b[39;49m\u001b[43m:\u001b[49m\u001b[43m \u001b[49m\u001b[43mseed\u001b[49m\u001b[43m,\u001b[49m\n\u001b[32m   1110\u001b[39m \u001b[43m                \u001b[49m\u001b[33;43m\"\u001b[39;49m\u001b[33;43mservice_tier\u001b[39;49m\u001b[33;43m\"\u001b[39;49m\u001b[43m:\u001b[49m\u001b[43m \u001b[49m\u001b[43mservice_tier\u001b[49m\u001b[43m,\u001b[49m\n\u001b[32m   1111\u001b[39m \u001b[43m                \u001b[49m\u001b[33;43m\"\u001b[39;49m\u001b[33;43mstop\u001b[39;49m\u001b[33;43m\"\u001b[39;49m\u001b[43m:\u001b[49m\u001b[43m \u001b[49m\u001b[43mstop\u001b[49m\u001b[43m,\u001b[49m\n\u001b[32m   1112\u001b[39m \u001b[43m                \u001b[49m\u001b[33;43m\"\u001b[39;49m\u001b[33;43mstore\u001b[39;49m\u001b[33;43m\"\u001b[39;49m\u001b[43m:\u001b[49m\u001b[43m \u001b[49m\u001b[43mstore\u001b[49m\u001b[43m,\u001b[49m\n\u001b[32m   1113\u001b[39m \u001b[43m                \u001b[49m\u001b[33;43m\"\u001b[39;49m\u001b[33;43mstream\u001b[39;49m\u001b[33;43m\"\u001b[39;49m\u001b[43m:\u001b[49m\u001b[43m \u001b[49m\u001b[43mstream\u001b[49m\u001b[43m,\u001b[49m\n\u001b[32m   1114\u001b[39m \u001b[43m                \u001b[49m\u001b[33;43m\"\u001b[39;49m\u001b[33;43mstream_options\u001b[39;49m\u001b[33;43m\"\u001b[39;49m\u001b[43m:\u001b[49m\u001b[43m \u001b[49m\u001b[43mstream_options\u001b[49m\u001b[43m,\u001b[49m\n\u001b[32m   1115\u001b[39m \u001b[43m                \u001b[49m\u001b[33;43m\"\u001b[39;49m\u001b[33;43mtemperature\u001b[39;49m\u001b[33;43m\"\u001b[39;49m\u001b[43m:\u001b[49m\u001b[43m \u001b[49m\u001b[43mtemperature\u001b[49m\u001b[43m,\u001b[49m\n\u001b[32m   1116\u001b[39m \u001b[43m                \u001b[49m\u001b[33;43m\"\u001b[39;49m\u001b[33;43mtool_choice\u001b[39;49m\u001b[33;43m\"\u001b[39;49m\u001b[43m:\u001b[49m\u001b[43m \u001b[49m\u001b[43mtool_choice\u001b[49m\u001b[43m,\u001b[49m\n\u001b[32m   1117\u001b[39m \u001b[43m                \u001b[49m\u001b[33;43m\"\u001b[39;49m\u001b[33;43mtools\u001b[39;49m\u001b[33;43m\"\u001b[39;49m\u001b[43m:\u001b[49m\u001b[43m \u001b[49m\u001b[43mtools\u001b[49m\u001b[43m,\u001b[49m\n\u001b[32m   1118\u001b[39m \u001b[43m                \u001b[49m\u001b[33;43m\"\u001b[39;49m\u001b[33;43mtop_logprobs\u001b[39;49m\u001b[33;43m\"\u001b[39;49m\u001b[43m:\u001b[49m\u001b[43m \u001b[49m\u001b[43mtop_logprobs\u001b[49m\u001b[43m,\u001b[49m\n\u001b[32m   1119\u001b[39m \u001b[43m                \u001b[49m\u001b[33;43m\"\u001b[39;49m\u001b[33;43mtop_p\u001b[39;49m\u001b[33;43m\"\u001b[39;49m\u001b[43m:\u001b[49m\u001b[43m \u001b[49m\u001b[43mtop_p\u001b[49m\u001b[43m,\u001b[49m\n\u001b[32m   1120\u001b[39m \u001b[43m                \u001b[49m\u001b[33;43m\"\u001b[39;49m\u001b[33;43muser\u001b[39;49m\u001b[33;43m\"\u001b[39;49m\u001b[43m:\u001b[49m\u001b[43m \u001b[49m\u001b[43muser\u001b[49m\u001b[43m,\u001b[49m\n\u001b[32m   1121\u001b[39m \u001b[43m                \u001b[49m\u001b[33;43m\"\u001b[39;49m\u001b[33;43mweb_search_options\u001b[39;49m\u001b[33;43m\"\u001b[39;49m\u001b[43m:\u001b[49m\u001b[43m \u001b[49m\u001b[43mweb_search_options\u001b[49m\u001b[43m,\u001b[49m\n\u001b[32m   1122\u001b[39m \u001b[43m            \u001b[49m\u001b[43m}\u001b[49m\u001b[43m,\u001b[49m\n\u001b[32m   1123\u001b[39m \u001b[43m            \u001b[49m\u001b[43mcompletion_create_params\u001b[49m\u001b[43m.\u001b[49m\u001b[43mCompletionCreateParamsStreaming\u001b[49m\n\u001b[32m   1124\u001b[39m \u001b[43m            \u001b[49m\u001b[38;5;28;43;01mif\u001b[39;49;00m\u001b[43m \u001b[49m\u001b[43mstream\u001b[49m\n\u001b[32m   1125\u001b[39m \u001b[43m            \u001b[49m\u001b[38;5;28;43;01melse\u001b[39;49;00m\u001b[43m \u001b[49m\u001b[43mcompletion_create_params\u001b[49m\u001b[43m.\u001b[49m\u001b[43mCompletionCreateParamsNonStreaming\u001b[49m\u001b[43m,\u001b[49m\n\u001b[32m   1126\u001b[39m \u001b[43m        \u001b[49m\u001b[43m)\u001b[49m\u001b[43m,\u001b[49m\n\u001b[32m   1127\u001b[39m \u001b[43m        \u001b[49m\u001b[43moptions\u001b[49m\u001b[43m=\u001b[49m\u001b[43mmake_request_options\u001b[49m\u001b[43m(\u001b[49m\n\u001b[32m   1128\u001b[39m \u001b[43m            \u001b[49m\u001b[43mextra_headers\u001b[49m\u001b[43m=\u001b[49m\u001b[43mextra_headers\u001b[49m\u001b[43m,\u001b[49m\u001b[43m \u001b[49m\u001b[43mextra_query\u001b[49m\u001b[43m=\u001b[49m\u001b[43mextra_query\u001b[49m\u001b[43m,\u001b[49m\u001b[43m \u001b[49m\u001b[43mextra_body\u001b[49m\u001b[43m=\u001b[49m\u001b[43mextra_body\u001b[49m\u001b[43m,\u001b[49m\u001b[43m \u001b[49m\u001b[43mtimeout\u001b[49m\u001b[43m=\u001b[49m\u001b[43mtimeout\u001b[49m\n\u001b[32m   1129\u001b[39m \u001b[43m        \u001b[49m\u001b[43m)\u001b[49m\u001b[43m,\u001b[49m\n\u001b[32m   1130\u001b[39m \u001b[43m        \u001b[49m\u001b[43mcast_to\u001b[49m\u001b[43m=\u001b[49m\u001b[43mChatCompletion\u001b[49m\u001b[43m,\u001b[49m\n\u001b[32m   1131\u001b[39m \u001b[43m        \u001b[49m\u001b[43mstream\u001b[49m\u001b[43m=\u001b[49m\u001b[43mstream\u001b[49m\u001b[43m \u001b[49m\u001b[38;5;129;43;01mor\u001b[39;49;00m\u001b[43m \u001b[49m\u001b[38;5;28;43;01mFalse\u001b[39;49;00m\u001b[43m,\u001b[49m\n\u001b[32m   1132\u001b[39m \u001b[43m        \u001b[49m\u001b[43mstream_cls\u001b[49m\u001b[43m=\u001b[49m\u001b[43mStream\u001b[49m\u001b[43m[\u001b[49m\u001b[43mChatCompletionChunk\u001b[49m\u001b[43m]\u001b[49m\u001b[43m,\u001b[49m\n\u001b[32m   1133\u001b[39m \u001b[43m    \u001b[49m\u001b[43m)\u001b[49m\n",
      "\u001b[36mFile \u001b[39m\u001b[32m~/.cache/pypoetry/virtualenvs/mathpal-EU7lYW5B-py3.11/lib/python3.11/site-packages/openai/_base_client.py:1256\u001b[39m, in \u001b[36mSyncAPIClient.post\u001b[39m\u001b[34m(self, path, cast_to, body, options, files, stream, stream_cls)\u001b[39m\n\u001b[32m   1242\u001b[39m \u001b[38;5;28;01mdef\u001b[39;00m\u001b[38;5;250m \u001b[39m\u001b[34mpost\u001b[39m(\n\u001b[32m   1243\u001b[39m     \u001b[38;5;28mself\u001b[39m,\n\u001b[32m   1244\u001b[39m     path: \u001b[38;5;28mstr\u001b[39m,\n\u001b[32m   (...)\u001b[39m\u001b[32m   1251\u001b[39m     stream_cls: \u001b[38;5;28mtype\u001b[39m[_StreamT] | \u001b[38;5;28;01mNone\u001b[39;00m = \u001b[38;5;28;01mNone\u001b[39;00m,\n\u001b[32m   1252\u001b[39m ) -> ResponseT | _StreamT:\n\u001b[32m   1253\u001b[39m     opts = FinalRequestOptions.construct(\n\u001b[32m   1254\u001b[39m         method=\u001b[33m\"\u001b[39m\u001b[33mpost\u001b[39m\u001b[33m\"\u001b[39m, url=path, json_data=body, files=to_httpx_files(files), **options\n\u001b[32m   1255\u001b[39m     )\n\u001b[32m-> \u001b[39m\u001b[32m1256\u001b[39m     \u001b[38;5;28;01mreturn\u001b[39;00m cast(ResponseT, \u001b[38;5;28;43mself\u001b[39;49m\u001b[43m.\u001b[49m\u001b[43mrequest\u001b[49m\u001b[43m(\u001b[49m\u001b[43mcast_to\u001b[49m\u001b[43m,\u001b[49m\u001b[43m \u001b[49m\u001b[43mopts\u001b[49m\u001b[43m,\u001b[49m\u001b[43m \u001b[49m\u001b[43mstream\u001b[49m\u001b[43m=\u001b[49m\u001b[43mstream\u001b[49m\u001b[43m,\u001b[49m\u001b[43m \u001b[49m\u001b[43mstream_cls\u001b[49m\u001b[43m=\u001b[49m\u001b[43mstream_cls\u001b[49m\u001b[43m)\u001b[49m)\n",
      "\u001b[36mFile \u001b[39m\u001b[32m~/.cache/pypoetry/virtualenvs/mathpal-EU7lYW5B-py3.11/lib/python3.11/site-packages/openai/_base_client.py:1044\u001b[39m, in \u001b[36mSyncAPIClient.request\u001b[39m\u001b[34m(self, cast_to, options, stream, stream_cls)\u001b[39m\n\u001b[32m   1041\u001b[39m             err.response.read()\n\u001b[32m   1043\u001b[39m         log.debug(\u001b[33m\"\u001b[39m\u001b[33mRe-raising status error\u001b[39m\u001b[33m\"\u001b[39m)\n\u001b[32m-> \u001b[39m\u001b[32m1044\u001b[39m         \u001b[38;5;28;01mraise\u001b[39;00m \u001b[38;5;28mself\u001b[39m._make_status_error_from_response(err.response) \u001b[38;5;28;01mfrom\u001b[39;00m\u001b[38;5;250m \u001b[39m\u001b[38;5;28;01mNone\u001b[39;00m\n\u001b[32m   1046\u001b[39m     \u001b[38;5;28;01mbreak\u001b[39;00m\n\u001b[32m   1048\u001b[39m \u001b[38;5;28;01massert\u001b[39;00m response \u001b[38;5;129;01mis\u001b[39;00m \u001b[38;5;129;01mnot\u001b[39;00m \u001b[38;5;28;01mNone\u001b[39;00m, \u001b[33m\"\u001b[39m\u001b[33mcould not resolve response (should never happen)\u001b[39m\u001b[33m\"\u001b[39m\n",
      "\u001b[31mAuthenticationError\u001b[39m: Error code: 401 - {'error': {'message': 'No auth credentials found', 'code': 401}}"
     ]
    }
   ],
   "source": [
    "result = chain.invoke({\"exam_text\": cleaned_content})"
   ]
  },
  {
   "cell_type": "code",
   "execution_count": 38,
   "id": "ac90bffa",
   "metadata": {},
   "outputs": [
    {
     "data": {
      "text/plain": [
       "Exam(problems=[Problem(question='Câu 1 (0,5 điểm). Cho biểu đồ như hình dưới đây. Tìm tỉ số phần trăm số học sinh khối 9 so với số học sinh toàn trường.', image_url='https://img.loigiaihay.com/picture/2025/0602/20_1.png', solution='Số học sinh khối 6 được biểu diễn là 14\\nTỉ số phần trăm học sinh khối 9 là: 100% - (12,5% + 40% + 25%) = 22,5%', result='22,5%'), Problem(question='Câu 2 (0,5 điểm). Gieo 1 viên xúc sắc 20 lần liên tiếp kết quả nhận được như bảng sau: \\n![](https://img.loigiaihay.com/picture/2025/0602/20_1.PNG)\\nTỉ số giữa số lần xuất hiện mặt có số chấm là số lẻ và tổng số lần đã gieo là bao nhiêu?', image_url='https://img.loigiaihay.com/picture/2025/0602/20_1.PNG', solution='Số lần xuất hiện mặt có chấm là số lẻ là: 5 + 3 + 1 = 9 (lần)\\nTỉ số giữa số lần xuất hiện mặt số chấm là số lẻ và tổng số lần đã gieo là: 9:20=920', result='920'), Problem(question='Câu 3 (0,5 điểm). Tìm số tự nhiên thích hợp điền vào chỗ trống là: 526<....26<625', image_url=None, solution='Số tự nhiên cần điền là: 6', result='6'), Problem(question='Câu 4 (0,5 điểm). Tính kết quả của phép tính: \\n20,26 x 42,6 + 20,26 x 57,4', image_url=None, solution='20,26 x 42,6 + 20,26 x 57,4\\n= 20,26 x (42,6 + 57,4)\\n= 20,26 x 100\\n= 2026', result='2026'), Problem(question='Câu 5 (0,5 điểm). Nhà bác An có một mảnh đất. Bác An dùng 35\\nPhần còn lại có diện tích là 60m2. Tính diện tích mảnh đất.', image_url=None, solution='Coi diện tích mảnh đất là 1 đơn vị.\\nPhân số chỉ 60 m2 là: 1−35=25\\nDiện tích mảnh đất là: 60 : 2 x 5 = 150 (m2)', result='150'), Problem(question='Câu 6 (0,5 điểm). Một miếng bìa hình chữ nhật có chiều dài là 25cm và chiều rộng là 20cm. Người ta cắt 4 góc miếng bìa hình vuông có cạnh là 5cm và gấp thành hình hộp chữ nhật (như hình dưới). Tính thể tích hình hộp chữ nhật đó.', image_url='https://img.loigiaihay.com/picture/2025/0602/21_1.png', solution='Chiều rộng của hình hộp chữ nhật là: 20 – (5 + 5) = 10 (cm)\\nChiều dài của hình hộp chữ nhật là: 25 – (5 + 5) = 15 (cm)\\nChiều cao của hình hộp chữ nhật là 5cm.\\nThể tích của hình đó là: 15 x 10 x 5 = 750 (cm3)', result='750'), Problem(question='Câu 7 (0,5 điểm). Cho nửa hình tròn có đường kính 40cm, người thợ mộc cắt 2 nửa hình tròn có đường kính bằng bán kính của hình tròn trước. Tính diện tích của hình tròn mới bị cắt.', image_url='https://img.loigiaihay.com/picture/2025/0602/22_1.png', solution='Đường kính hình tròn mới là: 40 : 2 = 20 (cm)\\nBán kính hình tròn mới là: 20 : 2 = 10 (cm)\\nDiện tích hình tròn mới bị cắt là: 10 x 10 x 3,14 = 314 (cm2)', result='314'), Problem(question='Câu 8. (0,5 điểm). Có bao nhiêu số có 2 chữ số mà chữ số hàng chục lớn hơn chữ số hàng đơn vị là 4.', image_url=None, solution='Các số thỏa mãn là: 40; 51; 62; 73; 84; 95. Vậy có 6 số thỏa mãn yêu cầu bài toán.', result='6'), Problem(question='Câu 9. (0,75 điểm). Một chiếc áo có giá 500 000 đồng. Vì không ai mua nên giảm giá 20% so với giá ban đầu. Nhưng vẫn không ai mua nên giảm giá tiếp 40% so với giá giảm lần đầu. Hỏi giá chiếc áo sau 2 lần giảm là bao nhiêu?', image_url=None, solution='Giá chiếc áo sau khi giảm lần đầu là: 500 000 – 500 000 × 20 : 100 = 400 000 (đồng)\\nGiá chiếc áo sau khi giảm lần hai là: 400 000 – 400 000 × 40 : 100 = 240 000 (đồng)', result=None), Problem(question='Câu 10. (0,75 điểm). Trên quãng đường AB dài 200km có hai người đi ngược chiều nhau. Lúc 7 giờ 30 phút có 1 xe tải đi từ A đến B với vận tốc 40km/giờ. Sau 30 phút có 1 xe khách đi từ B đến A với vận tốc 60km/giờ. Hỏi lúc 9 giờ cùng ngày hai xe cách nhau bao nhiêu ki-lô-mét?', image_url='https://img.loigiaihay.com/picture/2025/0602/23.PNG', solution='Đổi: 30 phút = 0,5 giờ\\nLúc 9 giờ xe tải đi được số giờ là: 9 giờ - 7 giờ 30 phút = 1 giờ 30 phút = 1,5 giờ\\nLúc 9 giờ quãng đường xe tải đã đi được là: 40 x 1,5 = 60 (km)\\nLúc 9 giờ xe khách đi được số giờ là: 9 giờ - 7 giờ 30 phút – 30 phút = 1 (giờ)\\nLúc 9 giờ quãng đường xe khách đã đi được là: 60 x 1 = 60 (km)\\nLúc 9 giờ hai xe cách nhau là: 200 – 60 – 60 = 80 (km)', result=None), Problem(question='Câu 11 (0,75 điểm). Tổng số học sinh lớp 5A là 45 học sinh. Biết số học sinh nam bằng 45\\nTính số học sinh nữ.', image_url=None, solution='Số học sinh nữ là: 45 : (4 + 5) x 5 = 25 (học sinh)', result=None), Problem(question='Câu 12. (0,75 điểm). Có 15 hình lập phương nhỏ có cạnh 1cm. Người ta xếp 15 hình lập phương này thành một hình lập phương lớn. Hỏi diện tích toàn phần lớn nhất của hình hộp chữ nhật là bao nhiêu?', image_url=None, solution='Ta có: 15 = 1 x 1 x 15 =1 x 3 x 5\\nKích thước của hình hộp chữ nhật sau khi xếp có thể là:\\n1cm x 1cm x 15cm hoặc 1cm x 3cm x 5cm.\\nTrường hợp kích thước 1cm x 1cm x 15cm thì diện tích toàn phần là:\\n(1 + 15) x 2 x 1 + 1 x 15 x 2 = 62 (cm²)\\nTrường hợp kích thước 1cm x 3cm x 5cm diện tích toàn phần là:\\n(1 + 5) x 2 x 3 + 1 x 5 x 2 = 46 (cm2)\\nVậy diện tích toàn phần lớn nhất là 62cm2', result=None), Problem(question='Câu 13 (1 điểm). Để lập ra quỹ ủng hộ, lớp 6A và 6B bán đồ handmade, số tiền mà lớp 6B nhận được nhiều hơn số tiền lớp 6A nhận được là 2 triệu đồng. Trung bình cộng số tiền hai lớp thu được là 5 triệu đồng. Hỏi mỗi lớp nhận được bao nhiêu tiền?', image_url=None, solution='Tổng số tiền lớp 6A và 6B là:\\n5 x 2 = 10 (triệu đồng)\\nSố tiền lớp 6B nhận được là:\\n(10 + 2) : 2 = 6 (triệu đồng)\\nSố tiền lớp 6A nhận được là:\\n10 – 6 = 4 (triệu đồng)\\nĐáp số: 6A: 4 triệu đồng\\n6B: 6 triệu đồng', result=None), Problem(question='Câu 14 (1 điểm). Cho quãng đường AB có độ dài là 180km. Vận tốc xe máy là 45km/giờ, xe ô tô là 60km/giờ. Hỏi sau bao lâu thì quãng đường còn lại của xe máy gấp đôi ô tô biết 2 xe đi cùng chiều.', image_url='https://img.loigiaihay.com/picture/2025/0602/23.PNG', solution='Gọi quãng đường đã đi của ô tô là AC. Quãng đường còn lại là CB.\\nQuãng đường đã đi của xe máy là AD. Quãng đường còn lại là DB.\\nTa có CB = 1212\\nTỉ số vận tốc xe máy và ô tô là : 45 : 60 = 34\\nCùng thời gian thì vận tốc và quãng đường tỉ lệ thuận với nhau, suy ra:\\nTỉ lệ quãng đường đã đi của xe máy và ô tô là 34ADAC=34\\nCoi AC là 4 phần, AD là 3 phần. DC là 1 phần, CB là 1 phần. Suy ra AB là 5 phần.\\nQuãng đường đã đi của ô tô là: 180 : 5 x 4 = 144 (km)\\nThời gian đã đi của 2 xe là: 144 : 60 = 2,4 (giờ)\\nĐáp số: 2,4 giờ', result=None), Problem(question='Câu 15 (1 điểm). Cho tam giác ABC. Trên AB lấy điểm D sao cho AD = 2 BD. Trên BC lấy điểm E sao cho BE = 2 CE. Đoạn thẳng AD, CE cắt nhau tại F. Biết diện tích tam giác ACF là 20 cm2. Tính diện tích tam giác ABC.', image_url='https://img.loigiaihay.com/picture/2025/0602/24.png', solution='Nối B với F\\nHai tam giác ADC và tam giác CBD có chung chiều cao hạ từ C và AD = 2 x BD\\nSuy ra: SADC = 2 x SCBD\\nHai tam giác AFD và BFD có chung chiều cao F và AD = 2 x BD\\nSuy ra: SAFD = 2 x SBFD\\nTừ đó suy ra: SADC - SAFD = 2 x (SCBD - SBFD)\\nhay SAFC = 2 x SBFC\\nSBFC = 20 : 2 x 1 = 10 (cm2)\\nLàm tương tự ta được: SAFC = 12AFB\\nSAFB = 20 x 2 = 40 (cm2)\\nSABC = SBFC + SAFB + SAFC = 10 + 40 + 20 = 70 (cm2)\\nĐáp số: 70 cm2', result=None)])"
      ]
     },
     "execution_count": 38,
     "metadata": {},
     "output_type": "execute_result"
    }
   ],
   "source": [
    "result"
   ]
  },
  {
   "cell_type": "code",
   "execution_count": 39,
   "id": "0c4e6094",
   "metadata": {},
   "outputs": [
    {
     "name": "stdout",
     "output_type": "stream",
     "text": [
      "Câu 1 (0,5 điểm). Cho biểu đồ như hình dưới đây. Tìm tỉ số phần trăm số học sinh khối 9 so với số học sinh toàn trường.\n"
     ]
    }
   ],
   "source": [
    "print(result.problems[0].question)"
   ]
  },
  {
   "cell_type": "code",
   "execution_count": 40,
   "id": "89c17254",
   "metadata": {},
   "outputs": [
    {
     "name": "stdout",
     "output_type": "stream",
     "text": [
      "Số học sinh khối 6 được biểu diễn là 14\n",
      "Tỉ số phần trăm học sinh khối 9 là: 100% - (12,5% + 40% + 25%) = 22,5%\n"
     ]
    }
   ],
   "source": [
    "print(result.problems[0].solution)"
   ]
  },
  {
   "cell_type": "code",
   "execution_count": 41,
   "id": "c4f9e0d9",
   "metadata": {},
   "outputs": [
    {
     "name": "stdout",
     "output_type": "stream",
     "text": [
      "22,5%\n"
     ]
    }
   ],
   "source": [
    "print(result.problems[0].result)"
   ]
  }
 ],
 "metadata": {
  "kernelspec": {
   "display_name": "mathpal-EU7lYW5B-py3.11",
   "language": "python",
   "name": "python3"
  },
  "language_info": {
   "codemirror_mode": {
    "name": "ipython",
    "version": 3
   },
   "file_extension": ".py",
   "mimetype": "text/x-python",
   "name": "python",
   "nbconvert_exporter": "python",
   "pygments_lexer": "ipython3",
   "version": "3.11.8"
  }
 },
 "nbformat": 4,
 "nbformat_minor": 5
}
