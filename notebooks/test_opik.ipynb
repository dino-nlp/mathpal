{
 "cells": [
  {
   "cell_type": "code",
   "execution_count": 1,
   "id": "a2b14867",
   "metadata": {},
   "outputs": [],
   "source": [
    "import os\n",
    "import opik\n",
    "from comet_ml import Experiment\n",
    "from opik.configurator.configure import OpikConfigurator"
   ]
  },
  {
   "cell_type": "code",
   "execution_count": 2,
   "id": "38c88d72",
   "metadata": {},
   "outputs": [],
   "source": [
    "COMET_API_KEY = os.getenv(\"COMET_API_KEY\")\n",
    "COMET_WORKSPACE = os.getenv(\"COMET_WORKSPACE\")\n",
    "COMET_PROJECT = os.getenv(\"COMET_PROJECT\")"
   ]
  },
  {
   "cell_type": "code",
   "execution_count": 6,
   "id": "688a1c7f",
   "metadata": {},
   "outputs": [
    {
     "data": {
      "text/plain": [
       "'mathpal'"
      ]
     },
     "execution_count": 6,
     "metadata": {},
     "output_type": "execute_result"
    }
   ],
   "source": [
    "client = OpikConfigurator(api_key=COMET_API_KEY)\n",
    "default_workspace = client._get_default_workspace()\n",
    "default_workspace"
   ]
  },
  {
   "cell_type": "code",
   "execution_count": 8,
   "id": "ff736799",
   "metadata": {},
   "outputs": [
    {
     "name": "stderr",
     "output_type": "stream",
     "text": [
      "OPIK: Configuration saved to file: /home/dino/.opik.config\n"
     ]
    }
   ],
   "source": [
    "opik.configure(\n",
    "    api_key=COMET_API_KEY,\n",
    "    workspace=default_workspace,\n",
    "    use_local=False,\n",
    "    force=True,\n",
    ")"
   ]
  },
  {
   "cell_type": "code",
   "execution_count": 11,
   "id": "1a634b54",
   "metadata": {},
   "outputs": [],
   "source": [
    "opik_client = opik.Opik()\n",
    "# opik_client.get_dataset(name=\"exam-sixth_grade-instruct-dataset\")"
   ]
  },
  {
   "cell_type": "code",
   "execution_count": 12,
   "id": "e202fac8",
   "metadata": {},
   "outputs": [
    {
     "name": "stderr",
     "output_type": "stream",
     "text": [
      "\u001b[1;38;5;214mCOMET WARNING:\u001b[0m To get all data logged automatically, import comet_ml before the following modules: sklearn.\n",
      "\u001b[1;38;5;214mCOMET WARNING:\u001b[0m As you are running in a Jupyter environment, you will need to call `experiment.end()` when finished to ensure all metrics and code are logged before exiting.\n",
      "\u001b[1;38;5;39mCOMET INFO:\u001b[0m Experiment is live on comet.com https://www.comet.com/mathpal/mathpal-gemma3n/66afc907c49540299b3a57d27eb2cde1\n",
      "\n"
     ]
    }
   ],
   "source": [
    "experiment = Experiment(\n",
    "    workspace=COMET_WORKSPACE,\n",
    "    project_name=COMET_PROJECT,\n",
    "    api_key=COMET_API_KEY,\n",
    ")"
   ]
  },
  {
   "cell_type": "code",
   "execution_count": 13,
   "id": "f857f77e",
   "metadata": {},
   "outputs": [],
   "source": [
    "artifact_name = \"exam-sixth_grade-instruct-dataset\"\n",
    "logged_artifact = experiment.get_artifact(artifact_name)"
   ]
  },
  {
   "cell_type": "code",
   "execution_count": 14,
   "id": "e35a3682",
   "metadata": {},
   "outputs": [
    {
     "data": {
      "text/plain": [
       "LoggedArtifact(artifact_name='exam-sixth_grade-instruct-dataset', artifact_type='data', workspace='mathpal', version=Version('2.0.0'), aliases=frozenset({'Latest'}), artifact_tags=frozenset(), version_tags=frozenset(), size=828095, source_experiment_key='74833491c05d4c6586a6471eadc1ec63')"
      ]
     },
     "execution_count": 14,
     "metadata": {},
     "output_type": "execute_result"
    }
   ],
   "source": [
    "logged_artifact"
   ]
  },
  {
   "cell_type": "code",
   "execution_count": 17,
   "id": "45d8c6ce",
   "metadata": {},
   "outputs": [
    {
     "name": "stderr",
     "output_type": "stream",
     "text": [
      "\u001b[1;38;5;39mCOMET INFO:\u001b[0m Artifact 'mathpal/exam-sixth_grade-instruct-dataset:2.0.0' download has been started asynchronously\n",
      "\u001b[1;38;5;39mCOMET INFO:\u001b[0m Still downloading 2 file(s), remaining 808.69 KB/808.69 KB\n",
      "\u001b[1;38;5;39mCOMET INFO:\u001b[0m Artifact 'mathpal/exam-sixth_grade-instruct-dataset:2.0.0' has been successfully downloaded\n"
     ]
    },
    {
     "data": {
      "text/plain": [
       "Artifact(name='exam-sixth_grade-instruct-dataset', artifact_type='data', version=None, aliases=set(), version_tags=set())"
      ]
     },
     "execution_count": 17,
     "metadata": {},
     "output_type": "execute_result"
    }
   ],
   "source": [
    "logged_artifact.download(\"artifacts\")"
   ]
  },
  {
   "cell_type": "code",
   "execution_count": 19,
   "id": "2954f439",
   "metadata": {},
   "outputs": [
    {
     "data": {
      "text/plain": [
       "'artifacts/cleaned_exams_testing.json'"
      ]
     },
     "execution_count": 19,
     "metadata": {},
     "output_type": "execute_result"
    }
   ],
   "source": [
    "testing_artifact_file = \"artifacts/cleaned_exams_testing.json\"\n",
    "testing_artifact_file"
   ]
  },
  {
   "cell_type": "code",
   "execution_count": 21,
   "id": "6e164a1e",
   "metadata": {},
   "outputs": [
    {
     "data": {
      "text/plain": [
       "{'question': 'Bài 15: Trường THCS Thanh Xuân lập 1 đội 32 học sinh để trồng cây dự định làm xong trong 15 ngày. Làm được 5 ngày thì bổ sung thêm 1 số bạn nên hoàn thành sớm hơn dự định 2 ngày. Tính số học sinh được bổ sung thêm.',\n",
       " 'solution': 'Theo dự định, đội học sinh làm hết công việc còn lại trong số ngày là: 15 – 5 = 10 (ngày)\\n1 bạn làm hết công việc còn lại trong số ngày là: 10 x 32 = 320 (ngày)\\nSố ngày thực tế để làm hết công việc còn lại là: 10 – 2 = 8 (ngày)\\nSố người thực tế để làm hết công việc còn lại là: 320 : 8 = 40 (người)\\nSố người đến thêm là: 40 – 32 = 8 (người)\\nĐáp số: 8 người'}"
      ]
     },
     "execution_count": 21,
     "metadata": {},
     "output_type": "execute_result"
    }
   ],
   "source": [
    "import json\n",
    "with open(testing_artifact_file, \"r\") as file:\n",
    "    items = json.load(file)\n",
    "\n",
    "items[0]"
   ]
  },
  {
   "cell_type": "code",
   "execution_count": 22,
   "id": "d296f23b",
   "metadata": {},
   "outputs": [
    {
     "data": {
      "text/plain": [
       "{'question': 'Bài 15: Trường THCS Thanh Xuân lập 1 đội 32 học sinh để trồng cây dự định làm xong trong 15 ngày. Làm được 5 ngày thì bổ sung thêm 1 số bạn nên hoàn thành sớm hơn dự định 2 ngày. Tính số học sinh được bổ sung thêm.',\n",
       " 'solution': 'Theo dự định, đội học sinh làm hết công việc còn lại trong số ngày là: 15 – 5 = 10 (ngày)\\n1 bạn làm hết công việc còn lại trong số ngày là: 10 x 32 = 320 (ngày)\\nSố ngày thực tế để làm hết công việc còn lại là: 10 – 2 = 8 (ngày)\\nSố người thực tế để làm hết công việc còn lại là: 320 : 8 = 40 (người)\\nSố người đến thêm là: 40 – 32 = 8 (người)\\nĐáp số: 8 người',\n",
       " 'artifact_name': 'exam-sixth_grade-instruct-dataset'}"
      ]
     },
     "execution_count": 22,
     "metadata": {},
     "output_type": "execute_result"
    }
   ],
   "source": [
    "enhanced_items = [\n",
    "    {**item, \"artifact_name\": artifact_name} for item in items\n",
    "]\n",
    "enhanced_items[0]"
   ]
  },
  {
   "cell_type": "code",
   "execution_count": 23,
   "id": "e739de2c",
   "metadata": {},
   "outputs": [
    {
     "name": "stderr",
     "output_type": "stream",
     "text": [
      "\u001b[1;38;5;39mCOMET INFO:\u001b[0m ---------------------------------------------------------------------------------------\n",
      "\u001b[1;38;5;39mCOMET INFO:\u001b[0m Comet.ml Experiment Summary\n",
      "\u001b[1;38;5;39mCOMET INFO:\u001b[0m ---------------------------------------------------------------------------------------\n",
      "\u001b[1;38;5;39mCOMET INFO:\u001b[0m   Data:\n",
      "\u001b[1;38;5;39mCOMET INFO:\u001b[0m     display_summary_level : 1\n",
      "\u001b[1;38;5;39mCOMET INFO:\u001b[0m     name                  : spectacular_coconut_6852\n",
      "\u001b[1;38;5;39mCOMET INFO:\u001b[0m     url                   : https://www.comet.com/mathpal/mathpal-gemma3n/66afc907c49540299b3a57d27eb2cde1\n",
      "\u001b[1;38;5;39mCOMET INFO:\u001b[0m   Downloads:\n",
      "\u001b[1;38;5;39mCOMET INFO:\u001b[0m     artifact assets : 6 (2.37 MB)\n",
      "\u001b[1;38;5;39mCOMET INFO:\u001b[0m     artifacts       : 1\n",
      "\u001b[1;38;5;39mCOMET INFO:\u001b[0m   Uploads:\n",
      "\u001b[1;38;5;39mCOMET INFO:\u001b[0m     environment details      : 1\n",
      "\u001b[1;38;5;39mCOMET INFO:\u001b[0m     filename                 : 1\n",
      "\u001b[1;38;5;39mCOMET INFO:\u001b[0m     git metadata             : 1\n",
      "\u001b[1;38;5;39mCOMET INFO:\u001b[0m     git-patch (uncompressed) : 1 (227.90 KB)\n",
      "\u001b[1;38;5;39mCOMET INFO:\u001b[0m     installed packages       : 1\n",
      "\u001b[1;38;5;39mCOMET INFO:\u001b[0m     notebook                 : 1\n",
      "\u001b[1;38;5;39mCOMET INFO:\u001b[0m     os packages              : 1\n",
      "\u001b[1;38;5;39mCOMET INFO:\u001b[0m     source_code              : 1\n",
      "\u001b[1;38;5;39mCOMET INFO:\u001b[0m \n",
      "\u001b[1;38;5;214mCOMET WARNING:\u001b[0m To get all data logged automatically, import comet_ml before the following modules: sklearn.\n",
      "\u001b[1;38;5;39mCOMET INFO:\u001b[0m Please wait for metadata to finish uploading (timeout is 3600 seconds)\n",
      "\u001b[1;38;5;39mCOMET INFO:\u001b[0m Uploading 1 metrics, params and output messages\n"
     ]
    }
   ],
   "source": [
    "experiment.end()"
   ]
  },
  {
   "cell_type": "code",
   "execution_count": 24,
   "id": "5f5397a7",
   "metadata": {},
   "outputs": [],
   "source": [
    "def create_dataset(name: str, description: str, items: list[dict]) -> opik.Dataset:\n",
    "    client = opik.Opik()\n",
    "\n",
    "    dataset = client.get_or_create_dataset(name=name, description=description)\n",
    "    dataset.insert(items)\n",
    "\n",
    "    dataset = client.get_dataset(name=name)\n",
    "\n",
    "    return dataset"
   ]
  },
  {
   "cell_type": "code",
   "execution_count": 26,
   "id": "d6581d13",
   "metadata": {},
   "outputs": [
    {
     "name": "stderr",
     "output_type": "stream",
     "text": [
      "OPIK: Created a \"mathpal-testset\" dataset at https://www.comet.com/opik/api/v1/session/redirect/datasets/?dataset_id=0198bc9b-9536-7f5a-af79-ddc6dbeac236&path=aHR0cHM6Ly93d3cuY29tZXQuY29tL29waWsvYXBpLw==.\n"
     ]
    }
   ],
   "source": [
    "dataset = create_dataset(\n",
    "    name=\"mathpal-testset\",\n",
    "    description=\"Dataset created from artifacts\",\n",
    "    items=enhanced_items,\n",
    ")"
   ]
  },
  {
   "cell_type": "code",
   "execution_count": null,
   "id": "c8d92e6d",
   "metadata": {},
   "outputs": [],
   "source": []
  }
 ],
 "metadata": {
  "kernelspec": {
   "display_name": "mathpal-EU7lYW5B-py3.11",
   "language": "python",
   "name": "python3"
  },
  "language_info": {
   "codemirror_mode": {
    "name": "ipython",
    "version": 3
   },
   "file_extension": ".py",
   "mimetype": "text/x-python",
   "name": "python",
   "nbconvert_exporter": "python",
   "pygments_lexer": "ipython3",
   "version": "3.11.8"
  }
 },
 "nbformat": 4,
 "nbformat_minor": 5
}
